{
  "metadata": {
    "kernelspec": {
      "display_name": "Python 3",
      "name": "python3"
    },
    "language_info": {
      "name": "python",
      "version": "3.10.10",
      "mimetype": "text/x-python",
      "codemirror_mode": {
        "name": "ipython",
        "version": 3
      },
      "pygments_lexer": "ipython3",
      "nbconvert_exporter": "python",
      "file_extension": ".py"
    },
    "colab": {
      "provenance": []
    },
    "accelerator": "TPU",
    "widgets": {
      "application/vnd.jupyter.widget-state+json": {
        "708aa6c52bd54f88be9179a90c77be35": {
          "model_module": "@jupyter-widgets/controls",
          "model_name": "HBoxModel",
          "model_module_version": "1.5.0",
          "state": {
            "_dom_classes": [],
            "_model_module": "@jupyter-widgets/controls",
            "_model_module_version": "1.5.0",
            "_model_name": "HBoxModel",
            "_view_count": null,
            "_view_module": "@jupyter-widgets/controls",
            "_view_module_version": "1.5.0",
            "_view_name": "HBoxView",
            "box_style": "",
            "children": [
              "IPY_MODEL_bf8bec8899dd4eaa938526956cd46137",
              "IPY_MODEL_2234f07014bf4727aab64cbabccb367c",
              "IPY_MODEL_abcaea7ddecc4ea2ab50bed38e86b523"
            ],
            "layout": "IPY_MODEL_7cd000e315a447df8f726f727e2740a0"
          }
        },
        "bf8bec8899dd4eaa938526956cd46137": {
          "model_module": "@jupyter-widgets/controls",
          "model_name": "HTMLModel",
          "model_module_version": "1.5.0",
          "state": {
            "_dom_classes": [],
            "_model_module": "@jupyter-widgets/controls",
            "_model_module_version": "1.5.0",
            "_model_name": "HTMLModel",
            "_view_count": null,
            "_view_module": "@jupyter-widgets/controls",
            "_view_module_version": "1.5.0",
            "_view_name": "HTMLView",
            "description": "",
            "description_tooltip": null,
            "layout": "IPY_MODEL_a1fd3e5d2c4e41c9849c473df6664c65",
            "placeholder": "​",
            "style": "IPY_MODEL_c4cef8a3a2e24a1aa9f13da1d8590c46",
            "value": "tokenizer_config.json: 100%"
          }
        },
        "2234f07014bf4727aab64cbabccb367c": {
          "model_module": "@jupyter-widgets/controls",
          "model_name": "FloatProgressModel",
          "model_module_version": "1.5.0",
          "state": {
            "_dom_classes": [],
            "_model_module": "@jupyter-widgets/controls",
            "_model_module_version": "1.5.0",
            "_model_name": "FloatProgressModel",
            "_view_count": null,
            "_view_module": "@jupyter-widgets/controls",
            "_view_module_version": "1.5.0",
            "_view_name": "ProgressView",
            "bar_style": "success",
            "description": "",
            "description_tooltip": null,
            "layout": "IPY_MODEL_c76f3db1a59c4f2fb9a73cf1419684d2",
            "max": 48,
            "min": 0,
            "orientation": "horizontal",
            "style": "IPY_MODEL_7c2cbb8885c54149968257b4418071ab",
            "value": 48
          }
        },
        "abcaea7ddecc4ea2ab50bed38e86b523": {
          "model_module": "@jupyter-widgets/controls",
          "model_name": "HTMLModel",
          "model_module_version": "1.5.0",
          "state": {
            "_dom_classes": [],
            "_model_module": "@jupyter-widgets/controls",
            "_model_module_version": "1.5.0",
            "_model_name": "HTMLModel",
            "_view_count": null,
            "_view_module": "@jupyter-widgets/controls",
            "_view_module_version": "1.5.0",
            "_view_name": "HTMLView",
            "description": "",
            "description_tooltip": null,
            "layout": "IPY_MODEL_d5abe35163374f21aaeb16879aa543a4",
            "placeholder": "​",
            "style": "IPY_MODEL_96b8827809864cd3a701f092a5194f4f",
            "value": " 48.0/48.0 [00:00&lt;00:00, 1.53kB/s]"
          }
        },
        "7cd000e315a447df8f726f727e2740a0": {
          "model_module": "@jupyter-widgets/base",
          "model_name": "LayoutModel",
          "model_module_version": "1.2.0",
          "state": {
            "_model_module": "@jupyter-widgets/base",
            "_model_module_version": "1.2.0",
            "_model_name": "LayoutModel",
            "_view_count": null,
            "_view_module": "@jupyter-widgets/base",
            "_view_module_version": "1.2.0",
            "_view_name": "LayoutView",
            "align_content": null,
            "align_items": null,
            "align_self": null,
            "border": null,
            "bottom": null,
            "display": null,
            "flex": null,
            "flex_flow": null,
            "grid_area": null,
            "grid_auto_columns": null,
            "grid_auto_flow": null,
            "grid_auto_rows": null,
            "grid_column": null,
            "grid_gap": null,
            "grid_row": null,
            "grid_template_areas": null,
            "grid_template_columns": null,
            "grid_template_rows": null,
            "height": null,
            "justify_content": null,
            "justify_items": null,
            "left": null,
            "margin": null,
            "max_height": null,
            "max_width": null,
            "min_height": null,
            "min_width": null,
            "object_fit": null,
            "object_position": null,
            "order": null,
            "overflow": null,
            "overflow_x": null,
            "overflow_y": null,
            "padding": null,
            "right": null,
            "top": null,
            "visibility": null,
            "width": null
          }
        },
        "a1fd3e5d2c4e41c9849c473df6664c65": {
          "model_module": "@jupyter-widgets/base",
          "model_name": "LayoutModel",
          "model_module_version": "1.2.0",
          "state": {
            "_model_module": "@jupyter-widgets/base",
            "_model_module_version": "1.2.0",
            "_model_name": "LayoutModel",
            "_view_count": null,
            "_view_module": "@jupyter-widgets/base",
            "_view_module_version": "1.2.0",
            "_view_name": "LayoutView",
            "align_content": null,
            "align_items": null,
            "align_self": null,
            "border": null,
            "bottom": null,
            "display": null,
            "flex": null,
            "flex_flow": null,
            "grid_area": null,
            "grid_auto_columns": null,
            "grid_auto_flow": null,
            "grid_auto_rows": null,
            "grid_column": null,
            "grid_gap": null,
            "grid_row": null,
            "grid_template_areas": null,
            "grid_template_columns": null,
            "grid_template_rows": null,
            "height": null,
            "justify_content": null,
            "justify_items": null,
            "left": null,
            "margin": null,
            "max_height": null,
            "max_width": null,
            "min_height": null,
            "min_width": null,
            "object_fit": null,
            "object_position": null,
            "order": null,
            "overflow": null,
            "overflow_x": null,
            "overflow_y": null,
            "padding": null,
            "right": null,
            "top": null,
            "visibility": null,
            "width": null
          }
        },
        "c4cef8a3a2e24a1aa9f13da1d8590c46": {
          "model_module": "@jupyter-widgets/controls",
          "model_name": "DescriptionStyleModel",
          "model_module_version": "1.5.0",
          "state": {
            "_model_module": "@jupyter-widgets/controls",
            "_model_module_version": "1.5.0",
            "_model_name": "DescriptionStyleModel",
            "_view_count": null,
            "_view_module": "@jupyter-widgets/base",
            "_view_module_version": "1.2.0",
            "_view_name": "StyleView",
            "description_width": ""
          }
        },
        "c76f3db1a59c4f2fb9a73cf1419684d2": {
          "model_module": "@jupyter-widgets/base",
          "model_name": "LayoutModel",
          "model_module_version": "1.2.0",
          "state": {
            "_model_module": "@jupyter-widgets/base",
            "_model_module_version": "1.2.0",
            "_model_name": "LayoutModel",
            "_view_count": null,
            "_view_module": "@jupyter-widgets/base",
            "_view_module_version": "1.2.0",
            "_view_name": "LayoutView",
            "align_content": null,
            "align_items": null,
            "align_self": null,
            "border": null,
            "bottom": null,
            "display": null,
            "flex": null,
            "flex_flow": null,
            "grid_area": null,
            "grid_auto_columns": null,
            "grid_auto_flow": null,
            "grid_auto_rows": null,
            "grid_column": null,
            "grid_gap": null,
            "grid_row": null,
            "grid_template_areas": null,
            "grid_template_columns": null,
            "grid_template_rows": null,
            "height": null,
            "justify_content": null,
            "justify_items": null,
            "left": null,
            "margin": null,
            "max_height": null,
            "max_width": null,
            "min_height": null,
            "min_width": null,
            "object_fit": null,
            "object_position": null,
            "order": null,
            "overflow": null,
            "overflow_x": null,
            "overflow_y": null,
            "padding": null,
            "right": null,
            "top": null,
            "visibility": null,
            "width": null
          }
        },
        "7c2cbb8885c54149968257b4418071ab": {
          "model_module": "@jupyter-widgets/controls",
          "model_name": "ProgressStyleModel",
          "model_module_version": "1.5.0",
          "state": {
            "_model_module": "@jupyter-widgets/controls",
            "_model_module_version": "1.5.0",
            "_model_name": "ProgressStyleModel",
            "_view_count": null,
            "_view_module": "@jupyter-widgets/base",
            "_view_module_version": "1.2.0",
            "_view_name": "StyleView",
            "bar_color": null,
            "description_width": ""
          }
        },
        "d5abe35163374f21aaeb16879aa543a4": {
          "model_module": "@jupyter-widgets/base",
          "model_name": "LayoutModel",
          "model_module_version": "1.2.0",
          "state": {
            "_model_module": "@jupyter-widgets/base",
            "_model_module_version": "1.2.0",
            "_model_name": "LayoutModel",
            "_view_count": null,
            "_view_module": "@jupyter-widgets/base",
            "_view_module_version": "1.2.0",
            "_view_name": "LayoutView",
            "align_content": null,
            "align_items": null,
            "align_self": null,
            "border": null,
            "bottom": null,
            "display": null,
            "flex": null,
            "flex_flow": null,
            "grid_area": null,
            "grid_auto_columns": null,
            "grid_auto_flow": null,
            "grid_auto_rows": null,
            "grid_column": null,
            "grid_gap": null,
            "grid_row": null,
            "grid_template_areas": null,
            "grid_template_columns": null,
            "grid_template_rows": null,
            "height": null,
            "justify_content": null,
            "justify_items": null,
            "left": null,
            "margin": null,
            "max_height": null,
            "max_width": null,
            "min_height": null,
            "min_width": null,
            "object_fit": null,
            "object_position": null,
            "order": null,
            "overflow": null,
            "overflow_x": null,
            "overflow_y": null,
            "padding": null,
            "right": null,
            "top": null,
            "visibility": null,
            "width": null
          }
        },
        "96b8827809864cd3a701f092a5194f4f": {
          "model_module": "@jupyter-widgets/controls",
          "model_name": "DescriptionStyleModel",
          "model_module_version": "1.5.0",
          "state": {
            "_model_module": "@jupyter-widgets/controls",
            "_model_module_version": "1.5.0",
            "_model_name": "DescriptionStyleModel",
            "_view_count": null,
            "_view_module": "@jupyter-widgets/base",
            "_view_module_version": "1.2.0",
            "_view_name": "StyleView",
            "description_width": ""
          }
        },
        "41a899f657094dc4bdc0d3e6e5d0e0fb": {
          "model_module": "@jupyter-widgets/controls",
          "model_name": "HBoxModel",
          "model_module_version": "1.5.0",
          "state": {
            "_dom_classes": [],
            "_model_module": "@jupyter-widgets/controls",
            "_model_module_version": "1.5.0",
            "_model_name": "HBoxModel",
            "_view_count": null,
            "_view_module": "@jupyter-widgets/controls",
            "_view_module_version": "1.5.0",
            "_view_name": "HBoxView",
            "box_style": "",
            "children": [
              "IPY_MODEL_f014f25fbcc546e4bb0bbe3591550274",
              "IPY_MODEL_6792b03168954ac68e350980b5f22e78",
              "IPY_MODEL_3b62a1ed41e747dd9b2203e851f9b802"
            ],
            "layout": "IPY_MODEL_4f009126bd0a47a89cc89de5345143c2"
          }
        },
        "f014f25fbcc546e4bb0bbe3591550274": {
          "model_module": "@jupyter-widgets/controls",
          "model_name": "HTMLModel",
          "model_module_version": "1.5.0",
          "state": {
            "_dom_classes": [],
            "_model_module": "@jupyter-widgets/controls",
            "_model_module_version": "1.5.0",
            "_model_name": "HTMLModel",
            "_view_count": null,
            "_view_module": "@jupyter-widgets/controls",
            "_view_module_version": "1.5.0",
            "_view_name": "HTMLView",
            "description": "",
            "description_tooltip": null,
            "layout": "IPY_MODEL_7c50269ed3a3498587c395b53dcae67a",
            "placeholder": "​",
            "style": "IPY_MODEL_e056b930d21247cba09cf20ec5d683ae",
            "value": "vocab.txt: 100%"
          }
        },
        "6792b03168954ac68e350980b5f22e78": {
          "model_module": "@jupyter-widgets/controls",
          "model_name": "FloatProgressModel",
          "model_module_version": "1.5.0",
          "state": {
            "_dom_classes": [],
            "_model_module": "@jupyter-widgets/controls",
            "_model_module_version": "1.5.0",
            "_model_name": "FloatProgressModel",
            "_view_count": null,
            "_view_module": "@jupyter-widgets/controls",
            "_view_module_version": "1.5.0",
            "_view_name": "ProgressView",
            "bar_style": "success",
            "description": "",
            "description_tooltip": null,
            "layout": "IPY_MODEL_745e7d2041104a0d895531b6f6cd1b33",
            "max": 231508,
            "min": 0,
            "orientation": "horizontal",
            "style": "IPY_MODEL_2730ed1624254dae963c95028b964d17",
            "value": 231508
          }
        },
        "3b62a1ed41e747dd9b2203e851f9b802": {
          "model_module": "@jupyter-widgets/controls",
          "model_name": "HTMLModel",
          "model_module_version": "1.5.0",
          "state": {
            "_dom_classes": [],
            "_model_module": "@jupyter-widgets/controls",
            "_model_module_version": "1.5.0",
            "_model_name": "HTMLModel",
            "_view_count": null,
            "_view_module": "@jupyter-widgets/controls",
            "_view_module_version": "1.5.0",
            "_view_name": "HTMLView",
            "description": "",
            "description_tooltip": null,
            "layout": "IPY_MODEL_8f788352bd674d3db1f763c5f8e88d57",
            "placeholder": "​",
            "style": "IPY_MODEL_014024848ad6436cb845698b7c4b2191",
            "value": " 232k/232k [00:00&lt;00:00, 4.76MB/s]"
          }
        },
        "4f009126bd0a47a89cc89de5345143c2": {
          "model_module": "@jupyter-widgets/base",
          "model_name": "LayoutModel",
          "model_module_version": "1.2.0",
          "state": {
            "_model_module": "@jupyter-widgets/base",
            "_model_module_version": "1.2.0",
            "_model_name": "LayoutModel",
            "_view_count": null,
            "_view_module": "@jupyter-widgets/base",
            "_view_module_version": "1.2.0",
            "_view_name": "LayoutView",
            "align_content": null,
            "align_items": null,
            "align_self": null,
            "border": null,
            "bottom": null,
            "display": null,
            "flex": null,
            "flex_flow": null,
            "grid_area": null,
            "grid_auto_columns": null,
            "grid_auto_flow": null,
            "grid_auto_rows": null,
            "grid_column": null,
            "grid_gap": null,
            "grid_row": null,
            "grid_template_areas": null,
            "grid_template_columns": null,
            "grid_template_rows": null,
            "height": null,
            "justify_content": null,
            "justify_items": null,
            "left": null,
            "margin": null,
            "max_height": null,
            "max_width": null,
            "min_height": null,
            "min_width": null,
            "object_fit": null,
            "object_position": null,
            "order": null,
            "overflow": null,
            "overflow_x": null,
            "overflow_y": null,
            "padding": null,
            "right": null,
            "top": null,
            "visibility": null,
            "width": null
          }
        },
        "7c50269ed3a3498587c395b53dcae67a": {
          "model_module": "@jupyter-widgets/base",
          "model_name": "LayoutModel",
          "model_module_version": "1.2.0",
          "state": {
            "_model_module": "@jupyter-widgets/base",
            "_model_module_version": "1.2.0",
            "_model_name": "LayoutModel",
            "_view_count": null,
            "_view_module": "@jupyter-widgets/base",
            "_view_module_version": "1.2.0",
            "_view_name": "LayoutView",
            "align_content": null,
            "align_items": null,
            "align_self": null,
            "border": null,
            "bottom": null,
            "display": null,
            "flex": null,
            "flex_flow": null,
            "grid_area": null,
            "grid_auto_columns": null,
            "grid_auto_flow": null,
            "grid_auto_rows": null,
            "grid_column": null,
            "grid_gap": null,
            "grid_row": null,
            "grid_template_areas": null,
            "grid_template_columns": null,
            "grid_template_rows": null,
            "height": null,
            "justify_content": null,
            "justify_items": null,
            "left": null,
            "margin": null,
            "max_height": null,
            "max_width": null,
            "min_height": null,
            "min_width": null,
            "object_fit": null,
            "object_position": null,
            "order": null,
            "overflow": null,
            "overflow_x": null,
            "overflow_y": null,
            "padding": null,
            "right": null,
            "top": null,
            "visibility": null,
            "width": null
          }
        },
        "e056b930d21247cba09cf20ec5d683ae": {
          "model_module": "@jupyter-widgets/controls",
          "model_name": "DescriptionStyleModel",
          "model_module_version": "1.5.0",
          "state": {
            "_model_module": "@jupyter-widgets/controls",
            "_model_module_version": "1.5.0",
            "_model_name": "DescriptionStyleModel",
            "_view_count": null,
            "_view_module": "@jupyter-widgets/base",
            "_view_module_version": "1.2.0",
            "_view_name": "StyleView",
            "description_width": ""
          }
        },
        "745e7d2041104a0d895531b6f6cd1b33": {
          "model_module": "@jupyter-widgets/base",
          "model_name": "LayoutModel",
          "model_module_version": "1.2.0",
          "state": {
            "_model_module": "@jupyter-widgets/base",
            "_model_module_version": "1.2.0",
            "_model_name": "LayoutModel",
            "_view_count": null,
            "_view_module": "@jupyter-widgets/base",
            "_view_module_version": "1.2.0",
            "_view_name": "LayoutView",
            "align_content": null,
            "align_items": null,
            "align_self": null,
            "border": null,
            "bottom": null,
            "display": null,
            "flex": null,
            "flex_flow": null,
            "grid_area": null,
            "grid_auto_columns": null,
            "grid_auto_flow": null,
            "grid_auto_rows": null,
            "grid_column": null,
            "grid_gap": null,
            "grid_row": null,
            "grid_template_areas": null,
            "grid_template_columns": null,
            "grid_template_rows": null,
            "height": null,
            "justify_content": null,
            "justify_items": null,
            "left": null,
            "margin": null,
            "max_height": null,
            "max_width": null,
            "min_height": null,
            "min_width": null,
            "object_fit": null,
            "object_position": null,
            "order": null,
            "overflow": null,
            "overflow_x": null,
            "overflow_y": null,
            "padding": null,
            "right": null,
            "top": null,
            "visibility": null,
            "width": null
          }
        },
        "2730ed1624254dae963c95028b964d17": {
          "model_module": "@jupyter-widgets/controls",
          "model_name": "ProgressStyleModel",
          "model_module_version": "1.5.0",
          "state": {
            "_model_module": "@jupyter-widgets/controls",
            "_model_module_version": "1.5.0",
            "_model_name": "ProgressStyleModel",
            "_view_count": null,
            "_view_module": "@jupyter-widgets/base",
            "_view_module_version": "1.2.0",
            "_view_name": "StyleView",
            "bar_color": null,
            "description_width": ""
          }
        },
        "8f788352bd674d3db1f763c5f8e88d57": {
          "model_module": "@jupyter-widgets/base",
          "model_name": "LayoutModel",
          "model_module_version": "1.2.0",
          "state": {
            "_model_module": "@jupyter-widgets/base",
            "_model_module_version": "1.2.0",
            "_model_name": "LayoutModel",
            "_view_count": null,
            "_view_module": "@jupyter-widgets/base",
            "_view_module_version": "1.2.0",
            "_view_name": "LayoutView",
            "align_content": null,
            "align_items": null,
            "align_self": null,
            "border": null,
            "bottom": null,
            "display": null,
            "flex": null,
            "flex_flow": null,
            "grid_area": null,
            "grid_auto_columns": null,
            "grid_auto_flow": null,
            "grid_auto_rows": null,
            "grid_column": null,
            "grid_gap": null,
            "grid_row": null,
            "grid_template_areas": null,
            "grid_template_columns": null,
            "grid_template_rows": null,
            "height": null,
            "justify_content": null,
            "justify_items": null,
            "left": null,
            "margin": null,
            "max_height": null,
            "max_width": null,
            "min_height": null,
            "min_width": null,
            "object_fit": null,
            "object_position": null,
            "order": null,
            "overflow": null,
            "overflow_x": null,
            "overflow_y": null,
            "padding": null,
            "right": null,
            "top": null,
            "visibility": null,
            "width": null
          }
        },
        "014024848ad6436cb845698b7c4b2191": {
          "model_module": "@jupyter-widgets/controls",
          "model_name": "DescriptionStyleModel",
          "model_module_version": "1.5.0",
          "state": {
            "_model_module": "@jupyter-widgets/controls",
            "_model_module_version": "1.5.0",
            "_model_name": "DescriptionStyleModel",
            "_view_count": null,
            "_view_module": "@jupyter-widgets/base",
            "_view_module_version": "1.2.0",
            "_view_name": "StyleView",
            "description_width": ""
          }
        },
        "44d82961bbf94e7096702e63f2e72fc8": {
          "model_module": "@jupyter-widgets/controls",
          "model_name": "HBoxModel",
          "model_module_version": "1.5.0",
          "state": {
            "_dom_classes": [],
            "_model_module": "@jupyter-widgets/controls",
            "_model_module_version": "1.5.0",
            "_model_name": "HBoxModel",
            "_view_count": null,
            "_view_module": "@jupyter-widgets/controls",
            "_view_module_version": "1.5.0",
            "_view_name": "HBoxView",
            "box_style": "",
            "children": [
              "IPY_MODEL_e065df0cd709477dac93bff28e75ce6a",
              "IPY_MODEL_6a5842c21e9c4f0e8f9e29d7b9255290",
              "IPY_MODEL_a1ff45c0e732435b8b670b13d2d87982"
            ],
            "layout": "IPY_MODEL_14562643f6ac41679365fe1035bba5dd"
          }
        },
        "e065df0cd709477dac93bff28e75ce6a": {
          "model_module": "@jupyter-widgets/controls",
          "model_name": "HTMLModel",
          "model_module_version": "1.5.0",
          "state": {
            "_dom_classes": [],
            "_model_module": "@jupyter-widgets/controls",
            "_model_module_version": "1.5.0",
            "_model_name": "HTMLModel",
            "_view_count": null,
            "_view_module": "@jupyter-widgets/controls",
            "_view_module_version": "1.5.0",
            "_view_name": "HTMLView",
            "description": "",
            "description_tooltip": null,
            "layout": "IPY_MODEL_c3a990c62bbc4846856eb1acc8f17692",
            "placeholder": "​",
            "style": "IPY_MODEL_9d8d1d0a421f4adebb40109c5830100b",
            "value": "tokenizer.json: 100%"
          }
        },
        "6a5842c21e9c4f0e8f9e29d7b9255290": {
          "model_module": "@jupyter-widgets/controls",
          "model_name": "FloatProgressModel",
          "model_module_version": "1.5.0",
          "state": {
            "_dom_classes": [],
            "_model_module": "@jupyter-widgets/controls",
            "_model_module_version": "1.5.0",
            "_model_name": "FloatProgressModel",
            "_view_count": null,
            "_view_module": "@jupyter-widgets/controls",
            "_view_module_version": "1.5.0",
            "_view_name": "ProgressView",
            "bar_style": "success",
            "description": "",
            "description_tooltip": null,
            "layout": "IPY_MODEL_051adf48a79f420cacc0c540b2bddc09",
            "max": 466062,
            "min": 0,
            "orientation": "horizontal",
            "style": "IPY_MODEL_886227e4e2844942bba32e208a957a58",
            "value": 466062
          }
        },
        "a1ff45c0e732435b8b670b13d2d87982": {
          "model_module": "@jupyter-widgets/controls",
          "model_name": "HTMLModel",
          "model_module_version": "1.5.0",
          "state": {
            "_dom_classes": [],
            "_model_module": "@jupyter-widgets/controls",
            "_model_module_version": "1.5.0",
            "_model_name": "HTMLModel",
            "_view_count": null,
            "_view_module": "@jupyter-widgets/controls",
            "_view_module_version": "1.5.0",
            "_view_name": "HTMLView",
            "description": "",
            "description_tooltip": null,
            "layout": "IPY_MODEL_a591d144ab84442ca1d103bef3dc0a73",
            "placeholder": "​",
            "style": "IPY_MODEL_c2f4d4f2176f40859e48614000be9727",
            "value": " 466k/466k [00:00&lt;00:00, 26.7MB/s]"
          }
        },
        "14562643f6ac41679365fe1035bba5dd": {
          "model_module": "@jupyter-widgets/base",
          "model_name": "LayoutModel",
          "model_module_version": "1.2.0",
          "state": {
            "_model_module": "@jupyter-widgets/base",
            "_model_module_version": "1.2.0",
            "_model_name": "LayoutModel",
            "_view_count": null,
            "_view_module": "@jupyter-widgets/base",
            "_view_module_version": "1.2.0",
            "_view_name": "LayoutView",
            "align_content": null,
            "align_items": null,
            "align_self": null,
            "border": null,
            "bottom": null,
            "display": null,
            "flex": null,
            "flex_flow": null,
            "grid_area": null,
            "grid_auto_columns": null,
            "grid_auto_flow": null,
            "grid_auto_rows": null,
            "grid_column": null,
            "grid_gap": null,
            "grid_row": null,
            "grid_template_areas": null,
            "grid_template_columns": null,
            "grid_template_rows": null,
            "height": null,
            "justify_content": null,
            "justify_items": null,
            "left": null,
            "margin": null,
            "max_height": null,
            "max_width": null,
            "min_height": null,
            "min_width": null,
            "object_fit": null,
            "object_position": null,
            "order": null,
            "overflow": null,
            "overflow_x": null,
            "overflow_y": null,
            "padding": null,
            "right": null,
            "top": null,
            "visibility": null,
            "width": null
          }
        },
        "c3a990c62bbc4846856eb1acc8f17692": {
          "model_module": "@jupyter-widgets/base",
          "model_name": "LayoutModel",
          "model_module_version": "1.2.0",
          "state": {
            "_model_module": "@jupyter-widgets/base",
            "_model_module_version": "1.2.0",
            "_model_name": "LayoutModel",
            "_view_count": null,
            "_view_module": "@jupyter-widgets/base",
            "_view_module_version": "1.2.0",
            "_view_name": "LayoutView",
            "align_content": null,
            "align_items": null,
            "align_self": null,
            "border": null,
            "bottom": null,
            "display": null,
            "flex": null,
            "flex_flow": null,
            "grid_area": null,
            "grid_auto_columns": null,
            "grid_auto_flow": null,
            "grid_auto_rows": null,
            "grid_column": null,
            "grid_gap": null,
            "grid_row": null,
            "grid_template_areas": null,
            "grid_template_columns": null,
            "grid_template_rows": null,
            "height": null,
            "justify_content": null,
            "justify_items": null,
            "left": null,
            "margin": null,
            "max_height": null,
            "max_width": null,
            "min_height": null,
            "min_width": null,
            "object_fit": null,
            "object_position": null,
            "order": null,
            "overflow": null,
            "overflow_x": null,
            "overflow_y": null,
            "padding": null,
            "right": null,
            "top": null,
            "visibility": null,
            "width": null
          }
        },
        "9d8d1d0a421f4adebb40109c5830100b": {
          "model_module": "@jupyter-widgets/controls",
          "model_name": "DescriptionStyleModel",
          "model_module_version": "1.5.0",
          "state": {
            "_model_module": "@jupyter-widgets/controls",
            "_model_module_version": "1.5.0",
            "_model_name": "DescriptionStyleModel",
            "_view_count": null,
            "_view_module": "@jupyter-widgets/base",
            "_view_module_version": "1.2.0",
            "_view_name": "StyleView",
            "description_width": ""
          }
        },
        "051adf48a79f420cacc0c540b2bddc09": {
          "model_module": "@jupyter-widgets/base",
          "model_name": "LayoutModel",
          "model_module_version": "1.2.0",
          "state": {
            "_model_module": "@jupyter-widgets/base",
            "_model_module_version": "1.2.0",
            "_model_name": "LayoutModel",
            "_view_count": null,
            "_view_module": "@jupyter-widgets/base",
            "_view_module_version": "1.2.0",
            "_view_name": "LayoutView",
            "align_content": null,
            "align_items": null,
            "align_self": null,
            "border": null,
            "bottom": null,
            "display": null,
            "flex": null,
            "flex_flow": null,
            "grid_area": null,
            "grid_auto_columns": null,
            "grid_auto_flow": null,
            "grid_auto_rows": null,
            "grid_column": null,
            "grid_gap": null,
            "grid_row": null,
            "grid_template_areas": null,
            "grid_template_columns": null,
            "grid_template_rows": null,
            "height": null,
            "justify_content": null,
            "justify_items": null,
            "left": null,
            "margin": null,
            "max_height": null,
            "max_width": null,
            "min_height": null,
            "min_width": null,
            "object_fit": null,
            "object_position": null,
            "order": null,
            "overflow": null,
            "overflow_x": null,
            "overflow_y": null,
            "padding": null,
            "right": null,
            "top": null,
            "visibility": null,
            "width": null
          }
        },
        "886227e4e2844942bba32e208a957a58": {
          "model_module": "@jupyter-widgets/controls",
          "model_name": "ProgressStyleModel",
          "model_module_version": "1.5.0",
          "state": {
            "_model_module": "@jupyter-widgets/controls",
            "_model_module_version": "1.5.0",
            "_model_name": "ProgressStyleModel",
            "_view_count": null,
            "_view_module": "@jupyter-widgets/base",
            "_view_module_version": "1.2.0",
            "_view_name": "StyleView",
            "bar_color": null,
            "description_width": ""
          }
        },
        "a591d144ab84442ca1d103bef3dc0a73": {
          "model_module": "@jupyter-widgets/base",
          "model_name": "LayoutModel",
          "model_module_version": "1.2.0",
          "state": {
            "_model_module": "@jupyter-widgets/base",
            "_model_module_version": "1.2.0",
            "_model_name": "LayoutModel",
            "_view_count": null,
            "_view_module": "@jupyter-widgets/base",
            "_view_module_version": "1.2.0",
            "_view_name": "LayoutView",
            "align_content": null,
            "align_items": null,
            "align_self": null,
            "border": null,
            "bottom": null,
            "display": null,
            "flex": null,
            "flex_flow": null,
            "grid_area": null,
            "grid_auto_columns": null,
            "grid_auto_flow": null,
            "grid_auto_rows": null,
            "grid_column": null,
            "grid_gap": null,
            "grid_row": null,
            "grid_template_areas": null,
            "grid_template_columns": null,
            "grid_template_rows": null,
            "height": null,
            "justify_content": null,
            "justify_items": null,
            "left": null,
            "margin": null,
            "max_height": null,
            "max_width": null,
            "min_height": null,
            "min_width": null,
            "object_fit": null,
            "object_position": null,
            "order": null,
            "overflow": null,
            "overflow_x": null,
            "overflow_y": null,
            "padding": null,
            "right": null,
            "top": null,
            "visibility": null,
            "width": null
          }
        },
        "c2f4d4f2176f40859e48614000be9727": {
          "model_module": "@jupyter-widgets/controls",
          "model_name": "DescriptionStyleModel",
          "model_module_version": "1.5.0",
          "state": {
            "_model_module": "@jupyter-widgets/controls",
            "_model_module_version": "1.5.0",
            "_model_name": "DescriptionStyleModel",
            "_view_count": null,
            "_view_module": "@jupyter-widgets/base",
            "_view_module_version": "1.2.0",
            "_view_name": "StyleView",
            "description_width": ""
          }
        },
        "c2a377533acf4b06b71352dad29342b5": {
          "model_module": "@jupyter-widgets/controls",
          "model_name": "HBoxModel",
          "model_module_version": "1.5.0",
          "state": {
            "_dom_classes": [],
            "_model_module": "@jupyter-widgets/controls",
            "_model_module_version": "1.5.0",
            "_model_name": "HBoxModel",
            "_view_count": null,
            "_view_module": "@jupyter-widgets/controls",
            "_view_module_version": "1.5.0",
            "_view_name": "HBoxView",
            "box_style": "",
            "children": [
              "IPY_MODEL_78a9e1e7e70b441daf98865d70df7d64",
              "IPY_MODEL_57add2296ac041499211be0624a93513",
              "IPY_MODEL_6d70149f8c5d4bee86e8041e8f57c735"
            ],
            "layout": "IPY_MODEL_d5de97fbf1e54557b6da16191da38fe4"
          }
        },
        "78a9e1e7e70b441daf98865d70df7d64": {
          "model_module": "@jupyter-widgets/controls",
          "model_name": "HTMLModel",
          "model_module_version": "1.5.0",
          "state": {
            "_dom_classes": [],
            "_model_module": "@jupyter-widgets/controls",
            "_model_module_version": "1.5.0",
            "_model_name": "HTMLModel",
            "_view_count": null,
            "_view_module": "@jupyter-widgets/controls",
            "_view_module_version": "1.5.0",
            "_view_name": "HTMLView",
            "description": "",
            "description_tooltip": null,
            "layout": "IPY_MODEL_877e8bbe83cb434fbf8d2c69db330ec7",
            "placeholder": "​",
            "style": "IPY_MODEL_04a700a3b90f41f882d1f82b7567132f",
            "value": "config.json: 100%"
          }
        },
        "57add2296ac041499211be0624a93513": {
          "model_module": "@jupyter-widgets/controls",
          "model_name": "FloatProgressModel",
          "model_module_version": "1.5.0",
          "state": {
            "_dom_classes": [],
            "_model_module": "@jupyter-widgets/controls",
            "_model_module_version": "1.5.0",
            "_model_name": "FloatProgressModel",
            "_view_count": null,
            "_view_module": "@jupyter-widgets/controls",
            "_view_module_version": "1.5.0",
            "_view_name": "ProgressView",
            "bar_style": "success",
            "description": "",
            "description_tooltip": null,
            "layout": "IPY_MODEL_d69d2c9d906b4c64844f15ef1a2a3b47",
            "max": 570,
            "min": 0,
            "orientation": "horizontal",
            "style": "IPY_MODEL_2f0e93bbac434fc48ffe81a79a07ea30",
            "value": 570
          }
        },
        "6d70149f8c5d4bee86e8041e8f57c735": {
          "model_module": "@jupyter-widgets/controls",
          "model_name": "HTMLModel",
          "model_module_version": "1.5.0",
          "state": {
            "_dom_classes": [],
            "_model_module": "@jupyter-widgets/controls",
            "_model_module_version": "1.5.0",
            "_model_name": "HTMLModel",
            "_view_count": null,
            "_view_module": "@jupyter-widgets/controls",
            "_view_module_version": "1.5.0",
            "_view_name": "HTMLView",
            "description": "",
            "description_tooltip": null,
            "layout": "IPY_MODEL_311b11661dda4249afce3a5439d42082",
            "placeholder": "​",
            "style": "IPY_MODEL_8d12ea4b7b7f4c24bd44b063bf4277cf",
            "value": " 570/570 [00:00&lt;00:00, 34.7kB/s]"
          }
        },
        "d5de97fbf1e54557b6da16191da38fe4": {
          "model_module": "@jupyter-widgets/base",
          "model_name": "LayoutModel",
          "model_module_version": "1.2.0",
          "state": {
            "_model_module": "@jupyter-widgets/base",
            "_model_module_version": "1.2.0",
            "_model_name": "LayoutModel",
            "_view_count": null,
            "_view_module": "@jupyter-widgets/base",
            "_view_module_version": "1.2.0",
            "_view_name": "LayoutView",
            "align_content": null,
            "align_items": null,
            "align_self": null,
            "border": null,
            "bottom": null,
            "display": null,
            "flex": null,
            "flex_flow": null,
            "grid_area": null,
            "grid_auto_columns": null,
            "grid_auto_flow": null,
            "grid_auto_rows": null,
            "grid_column": null,
            "grid_gap": null,
            "grid_row": null,
            "grid_template_areas": null,
            "grid_template_columns": null,
            "grid_template_rows": null,
            "height": null,
            "justify_content": null,
            "justify_items": null,
            "left": null,
            "margin": null,
            "max_height": null,
            "max_width": null,
            "min_height": null,
            "min_width": null,
            "object_fit": null,
            "object_position": null,
            "order": null,
            "overflow": null,
            "overflow_x": null,
            "overflow_y": null,
            "padding": null,
            "right": null,
            "top": null,
            "visibility": null,
            "width": null
          }
        },
        "877e8bbe83cb434fbf8d2c69db330ec7": {
          "model_module": "@jupyter-widgets/base",
          "model_name": "LayoutModel",
          "model_module_version": "1.2.0",
          "state": {
            "_model_module": "@jupyter-widgets/base",
            "_model_module_version": "1.2.0",
            "_model_name": "LayoutModel",
            "_view_count": null,
            "_view_module": "@jupyter-widgets/base",
            "_view_module_version": "1.2.0",
            "_view_name": "LayoutView",
            "align_content": null,
            "align_items": null,
            "align_self": null,
            "border": null,
            "bottom": null,
            "display": null,
            "flex": null,
            "flex_flow": null,
            "grid_area": null,
            "grid_auto_columns": null,
            "grid_auto_flow": null,
            "grid_auto_rows": null,
            "grid_column": null,
            "grid_gap": null,
            "grid_row": null,
            "grid_template_areas": null,
            "grid_template_columns": null,
            "grid_template_rows": null,
            "height": null,
            "justify_content": null,
            "justify_items": null,
            "left": null,
            "margin": null,
            "max_height": null,
            "max_width": null,
            "min_height": null,
            "min_width": null,
            "object_fit": null,
            "object_position": null,
            "order": null,
            "overflow": null,
            "overflow_x": null,
            "overflow_y": null,
            "padding": null,
            "right": null,
            "top": null,
            "visibility": null,
            "width": null
          }
        },
        "04a700a3b90f41f882d1f82b7567132f": {
          "model_module": "@jupyter-widgets/controls",
          "model_name": "DescriptionStyleModel",
          "model_module_version": "1.5.0",
          "state": {
            "_model_module": "@jupyter-widgets/controls",
            "_model_module_version": "1.5.0",
            "_model_name": "DescriptionStyleModel",
            "_view_count": null,
            "_view_module": "@jupyter-widgets/base",
            "_view_module_version": "1.2.0",
            "_view_name": "StyleView",
            "description_width": ""
          }
        },
        "d69d2c9d906b4c64844f15ef1a2a3b47": {
          "model_module": "@jupyter-widgets/base",
          "model_name": "LayoutModel",
          "model_module_version": "1.2.0",
          "state": {
            "_model_module": "@jupyter-widgets/base",
            "_model_module_version": "1.2.0",
            "_model_name": "LayoutModel",
            "_view_count": null,
            "_view_module": "@jupyter-widgets/base",
            "_view_module_version": "1.2.0",
            "_view_name": "LayoutView",
            "align_content": null,
            "align_items": null,
            "align_self": null,
            "border": null,
            "bottom": null,
            "display": null,
            "flex": null,
            "flex_flow": null,
            "grid_area": null,
            "grid_auto_columns": null,
            "grid_auto_flow": null,
            "grid_auto_rows": null,
            "grid_column": null,
            "grid_gap": null,
            "grid_row": null,
            "grid_template_areas": null,
            "grid_template_columns": null,
            "grid_template_rows": null,
            "height": null,
            "justify_content": null,
            "justify_items": null,
            "left": null,
            "margin": null,
            "max_height": null,
            "max_width": null,
            "min_height": null,
            "min_width": null,
            "object_fit": null,
            "object_position": null,
            "order": null,
            "overflow": null,
            "overflow_x": null,
            "overflow_y": null,
            "padding": null,
            "right": null,
            "top": null,
            "visibility": null,
            "width": null
          }
        },
        "2f0e93bbac434fc48ffe81a79a07ea30": {
          "model_module": "@jupyter-widgets/controls",
          "model_name": "ProgressStyleModel",
          "model_module_version": "1.5.0",
          "state": {
            "_model_module": "@jupyter-widgets/controls",
            "_model_module_version": "1.5.0",
            "_model_name": "ProgressStyleModel",
            "_view_count": null,
            "_view_module": "@jupyter-widgets/base",
            "_view_module_version": "1.2.0",
            "_view_name": "StyleView",
            "bar_color": null,
            "description_width": ""
          }
        },
        "311b11661dda4249afce3a5439d42082": {
          "model_module": "@jupyter-widgets/base",
          "model_name": "LayoutModel",
          "model_module_version": "1.2.0",
          "state": {
            "_model_module": "@jupyter-widgets/base",
            "_model_module_version": "1.2.0",
            "_model_name": "LayoutModel",
            "_view_count": null,
            "_view_module": "@jupyter-widgets/base",
            "_view_module_version": "1.2.0",
            "_view_name": "LayoutView",
            "align_content": null,
            "align_items": null,
            "align_self": null,
            "border": null,
            "bottom": null,
            "display": null,
            "flex": null,
            "flex_flow": null,
            "grid_area": null,
            "grid_auto_columns": null,
            "grid_auto_flow": null,
            "grid_auto_rows": null,
            "grid_column": null,
            "grid_gap": null,
            "grid_row": null,
            "grid_template_areas": null,
            "grid_template_columns": null,
            "grid_template_rows": null,
            "height": null,
            "justify_content": null,
            "justify_items": null,
            "left": null,
            "margin": null,
            "max_height": null,
            "max_width": null,
            "min_height": null,
            "min_width": null,
            "object_fit": null,
            "object_position": null,
            "order": null,
            "overflow": null,
            "overflow_x": null,
            "overflow_y": null,
            "padding": null,
            "right": null,
            "top": null,
            "visibility": null,
            "width": null
          }
        },
        "8d12ea4b7b7f4c24bd44b063bf4277cf": {
          "model_module": "@jupyter-widgets/controls",
          "model_name": "DescriptionStyleModel",
          "model_module_version": "1.5.0",
          "state": {
            "_model_module": "@jupyter-widgets/controls",
            "_model_module_version": "1.5.0",
            "_model_name": "DescriptionStyleModel",
            "_view_count": null,
            "_view_module": "@jupyter-widgets/base",
            "_view_module_version": "1.2.0",
            "_view_name": "StyleView",
            "description_width": ""
          }
        },
        "8b9f03742a344b20ad966699a99f4ce7": {
          "model_module": "@jupyter-widgets/controls",
          "model_name": "HBoxModel",
          "model_module_version": "1.5.0",
          "state": {
            "_dom_classes": [],
            "_model_module": "@jupyter-widgets/controls",
            "_model_module_version": "1.5.0",
            "_model_name": "HBoxModel",
            "_view_count": null,
            "_view_module": "@jupyter-widgets/controls",
            "_view_module_version": "1.5.0",
            "_view_name": "HBoxView",
            "box_style": "",
            "children": [
              "IPY_MODEL_3fe2cc56d6244d998016e64127181b2d",
              "IPY_MODEL_d9581e0a1f4d4a2491e7c1649628c248",
              "IPY_MODEL_e568edebe9534ffa9922529f008a0f10"
            ],
            "layout": "IPY_MODEL_c2a4c5e0210d4e2ba880617fbd5f945a"
          }
        },
        "3fe2cc56d6244d998016e64127181b2d": {
          "model_module": "@jupyter-widgets/controls",
          "model_name": "HTMLModel",
          "model_module_version": "1.5.0",
          "state": {
            "_dom_classes": [],
            "_model_module": "@jupyter-widgets/controls",
            "_model_module_version": "1.5.0",
            "_model_name": "HTMLModel",
            "_view_count": null,
            "_view_module": "@jupyter-widgets/controls",
            "_view_module_version": "1.5.0",
            "_view_name": "HTMLView",
            "description": "",
            "description_tooltip": null,
            "layout": "IPY_MODEL_f77013cb63e548ca878f96a77827191a",
            "placeholder": "​",
            "style": "IPY_MODEL_39b91e9737e74970bb4c1e66cf2edb6a",
            "value": "model.safetensors: 100%"
          }
        },
        "d9581e0a1f4d4a2491e7c1649628c248": {
          "model_module": "@jupyter-widgets/controls",
          "model_name": "FloatProgressModel",
          "model_module_version": "1.5.0",
          "state": {
            "_dom_classes": [],
            "_model_module": "@jupyter-widgets/controls",
            "_model_module_version": "1.5.0",
            "_model_name": "FloatProgressModel",
            "_view_count": null,
            "_view_module": "@jupyter-widgets/controls",
            "_view_module_version": "1.5.0",
            "_view_name": "ProgressView",
            "bar_style": "success",
            "description": "",
            "description_tooltip": null,
            "layout": "IPY_MODEL_0265fa7c80c1482fbb9f367dd557a7b1",
            "max": 440449768,
            "min": 0,
            "orientation": "horizontal",
            "style": "IPY_MODEL_d7de1ec5de6e42ab9addaca225af7401",
            "value": 440449768
          }
        },
        "e568edebe9534ffa9922529f008a0f10": {
          "model_module": "@jupyter-widgets/controls",
          "model_name": "HTMLModel",
          "model_module_version": "1.5.0",
          "state": {
            "_dom_classes": [],
            "_model_module": "@jupyter-widgets/controls",
            "_model_module_version": "1.5.0",
            "_model_name": "HTMLModel",
            "_view_count": null,
            "_view_module": "@jupyter-widgets/controls",
            "_view_module_version": "1.5.0",
            "_view_name": "HTMLView",
            "description": "",
            "description_tooltip": null,
            "layout": "IPY_MODEL_b3a25cefe6d944148fa4486ae963b9e2",
            "placeholder": "​",
            "style": "IPY_MODEL_07d45869767b48a2b251a21bed25775c",
            "value": " 440M/440M [00:14&lt;00:00, 21.9MB/s]"
          }
        },
        "c2a4c5e0210d4e2ba880617fbd5f945a": {
          "model_module": "@jupyter-widgets/base",
          "model_name": "LayoutModel",
          "model_module_version": "1.2.0",
          "state": {
            "_model_module": "@jupyter-widgets/base",
            "_model_module_version": "1.2.0",
            "_model_name": "LayoutModel",
            "_view_count": null,
            "_view_module": "@jupyter-widgets/base",
            "_view_module_version": "1.2.0",
            "_view_name": "LayoutView",
            "align_content": null,
            "align_items": null,
            "align_self": null,
            "border": null,
            "bottom": null,
            "display": null,
            "flex": null,
            "flex_flow": null,
            "grid_area": null,
            "grid_auto_columns": null,
            "grid_auto_flow": null,
            "grid_auto_rows": null,
            "grid_column": null,
            "grid_gap": null,
            "grid_row": null,
            "grid_template_areas": null,
            "grid_template_columns": null,
            "grid_template_rows": null,
            "height": null,
            "justify_content": null,
            "justify_items": null,
            "left": null,
            "margin": null,
            "max_height": null,
            "max_width": null,
            "min_height": null,
            "min_width": null,
            "object_fit": null,
            "object_position": null,
            "order": null,
            "overflow": null,
            "overflow_x": null,
            "overflow_y": null,
            "padding": null,
            "right": null,
            "top": null,
            "visibility": null,
            "width": null
          }
        },
        "f77013cb63e548ca878f96a77827191a": {
          "model_module": "@jupyter-widgets/base",
          "model_name": "LayoutModel",
          "model_module_version": "1.2.0",
          "state": {
            "_model_module": "@jupyter-widgets/base",
            "_model_module_version": "1.2.0",
            "_model_name": "LayoutModel",
            "_view_count": null,
            "_view_module": "@jupyter-widgets/base",
            "_view_module_version": "1.2.0",
            "_view_name": "LayoutView",
            "align_content": null,
            "align_items": null,
            "align_self": null,
            "border": null,
            "bottom": null,
            "display": null,
            "flex": null,
            "flex_flow": null,
            "grid_area": null,
            "grid_auto_columns": null,
            "grid_auto_flow": null,
            "grid_auto_rows": null,
            "grid_column": null,
            "grid_gap": null,
            "grid_row": null,
            "grid_template_areas": null,
            "grid_template_columns": null,
            "grid_template_rows": null,
            "height": null,
            "justify_content": null,
            "justify_items": null,
            "left": null,
            "margin": null,
            "max_height": null,
            "max_width": null,
            "min_height": null,
            "min_width": null,
            "object_fit": null,
            "object_position": null,
            "order": null,
            "overflow": null,
            "overflow_x": null,
            "overflow_y": null,
            "padding": null,
            "right": null,
            "top": null,
            "visibility": null,
            "width": null
          }
        },
        "39b91e9737e74970bb4c1e66cf2edb6a": {
          "model_module": "@jupyter-widgets/controls",
          "model_name": "DescriptionStyleModel",
          "model_module_version": "1.5.0",
          "state": {
            "_model_module": "@jupyter-widgets/controls",
            "_model_module_version": "1.5.0",
            "_model_name": "DescriptionStyleModel",
            "_view_count": null,
            "_view_module": "@jupyter-widgets/base",
            "_view_module_version": "1.2.0",
            "_view_name": "StyleView",
            "description_width": ""
          }
        },
        "0265fa7c80c1482fbb9f367dd557a7b1": {
          "model_module": "@jupyter-widgets/base",
          "model_name": "LayoutModel",
          "model_module_version": "1.2.0",
          "state": {
            "_model_module": "@jupyter-widgets/base",
            "_model_module_version": "1.2.0",
            "_model_name": "LayoutModel",
            "_view_count": null,
            "_view_module": "@jupyter-widgets/base",
            "_view_module_version": "1.2.0",
            "_view_name": "LayoutView",
            "align_content": null,
            "align_items": null,
            "align_self": null,
            "border": null,
            "bottom": null,
            "display": null,
            "flex": null,
            "flex_flow": null,
            "grid_area": null,
            "grid_auto_columns": null,
            "grid_auto_flow": null,
            "grid_auto_rows": null,
            "grid_column": null,
            "grid_gap": null,
            "grid_row": null,
            "grid_template_areas": null,
            "grid_template_columns": null,
            "grid_template_rows": null,
            "height": null,
            "justify_content": null,
            "justify_items": null,
            "left": null,
            "margin": null,
            "max_height": null,
            "max_width": null,
            "min_height": null,
            "min_width": null,
            "object_fit": null,
            "object_position": null,
            "order": null,
            "overflow": null,
            "overflow_x": null,
            "overflow_y": null,
            "padding": null,
            "right": null,
            "top": null,
            "visibility": null,
            "width": null
          }
        },
        "d7de1ec5de6e42ab9addaca225af7401": {
          "model_module": "@jupyter-widgets/controls",
          "model_name": "ProgressStyleModel",
          "model_module_version": "1.5.0",
          "state": {
            "_model_module": "@jupyter-widgets/controls",
            "_model_module_version": "1.5.0",
            "_model_name": "ProgressStyleModel",
            "_view_count": null,
            "_view_module": "@jupyter-widgets/base",
            "_view_module_version": "1.2.0",
            "_view_name": "StyleView",
            "bar_color": null,
            "description_width": ""
          }
        },
        "b3a25cefe6d944148fa4486ae963b9e2": {
          "model_module": "@jupyter-widgets/base",
          "model_name": "LayoutModel",
          "model_module_version": "1.2.0",
          "state": {
            "_model_module": "@jupyter-widgets/base",
            "_model_module_version": "1.2.0",
            "_model_name": "LayoutModel",
            "_view_count": null,
            "_view_module": "@jupyter-widgets/base",
            "_view_module_version": "1.2.0",
            "_view_name": "LayoutView",
            "align_content": null,
            "align_items": null,
            "align_self": null,
            "border": null,
            "bottom": null,
            "display": null,
            "flex": null,
            "flex_flow": null,
            "grid_area": null,
            "grid_auto_columns": null,
            "grid_auto_flow": null,
            "grid_auto_rows": null,
            "grid_column": null,
            "grid_gap": null,
            "grid_row": null,
            "grid_template_areas": null,
            "grid_template_columns": null,
            "grid_template_rows": null,
            "height": null,
            "justify_content": null,
            "justify_items": null,
            "left": null,
            "margin": null,
            "max_height": null,
            "max_width": null,
            "min_height": null,
            "min_width": null,
            "object_fit": null,
            "object_position": null,
            "order": null,
            "overflow": null,
            "overflow_x": null,
            "overflow_y": null,
            "padding": null,
            "right": null,
            "top": null,
            "visibility": null,
            "width": null
          }
        },
        "07d45869767b48a2b251a21bed25775c": {
          "model_module": "@jupyter-widgets/controls",
          "model_name": "DescriptionStyleModel",
          "model_module_version": "1.5.0",
          "state": {
            "_model_module": "@jupyter-widgets/controls",
            "_model_module_version": "1.5.0",
            "_model_name": "DescriptionStyleModel",
            "_view_count": null,
            "_view_module": "@jupyter-widgets/base",
            "_view_module_version": "1.2.0",
            "_view_name": "StyleView",
            "description_width": ""
          }
        }
      }
    }
  },
  "nbformat_minor": 0,
  "nbformat": 4,
  "cells": [
    {
      "cell_type": "code",
      "source": [
        "#! pip install gensim\n",
        "# !pip install datasets transformers\n",
        "# !pip install tensorflow-addons\n",
        "# !pip install keras_preprocessing"
      ],
      "metadata": {
        "execution": {
          "iopub.status.busy": "2023-07-16T11:49:16.540234Z",
          "iopub.execute_input": "2023-07-16T11:49:16.540623Z",
          "iopub.status.idle": "2023-07-16T11:49:16.545424Z",
          "shell.execute_reply.started": "2023-07-16T11:49:16.540592Z",
          "shell.execute_reply": "2023-07-16T11:49:16.544325Z"
        },
        "trusted": true,
        "id": "Z8jEKA-z7r4E"
      },
      "execution_count": null,
      "outputs": []
    },
    {
      "cell_type": "code",
      "source": [
        "import pandas as pd\n",
        "import numpy as np\n",
        "import pandas as pd\n",
        "import tensorflow as tf\n",
        "import string\n",
        "import re\n",
        "import random\n",
        "import seaborn as sns\n",
        "%matplotlib inline\n",
        "import matplotlib.pyplot as plt\n",
        "import seaborn as sns\n",
        "from gensim.models import word2vec, FastText\n",
        "import gensim.downloader\n",
        "from sklearn.decomposition import PCA"
      ],
      "metadata": {
        "execution": {
          "iopub.status.busy": "2023-07-16T11:49:16.748012Z",
          "iopub.execute_input": "2023-07-16T11:49:16.748368Z",
          "iopub.status.idle": "2023-07-16T11:49:26.314810Z",
          "shell.execute_reply.started": "2023-07-16T11:49:16.748340Z",
          "shell.execute_reply": "2023-07-16T11:49:26.313822Z"
        },
        "trusted": true,
        "id": "k6bRSCLU7r4N"
      },
      "execution_count": null,
      "outputs": []
    },
    {
      "cell_type": "code",
      "source": [
        "df=pd.read_csv('/content/ner_dataset.csv', encoding= 'unicode_escape')"
      ],
      "metadata": {
        "id": "Py871tX5oWA-",
        "execution": {
          "iopub.status.busy": "2023-07-16T11:49:26.317032Z",
          "iopub.execute_input": "2023-07-16T11:49:26.317769Z",
          "iopub.status.idle": "2023-07-16T11:49:27.092317Z",
          "shell.execute_reply.started": "2023-07-16T11:49:26.317735Z",
          "shell.execute_reply": "2023-07-16T11:49:27.091259Z"
        },
        "trusted": true
      },
      "execution_count": null,
      "outputs": []
    },
    {
      "cell_type": "code",
      "source": [
        "df['Sentence #']=df['Sentence #'].ffill()"
      ],
      "metadata": {
        "execution": {
          "iopub.status.busy": "2023-07-16T11:49:27.093800Z",
          "iopub.execute_input": "2023-07-16T11:49:27.094149Z",
          "iopub.status.idle": "2023-07-16T11:49:27.411323Z",
          "shell.execute_reply.started": "2023-07-16T11:49:27.094116Z",
          "shell.execute_reply": "2023-07-16T11:49:27.410252Z"
        },
        "trusted": true,
        "id": "Ia_2dz7G7r4a"
      },
      "execution_count": null,
      "outputs": []
    },
    {
      "cell_type": "code",
      "source": [
        "df=df[['Sentence #','Word','Tag']]\n",
        "df.rename(columns={'Sentence #':'Sentence','Word':'Token','Tag':'POS'},inplace=True)"
      ],
      "metadata": {
        "id": "wKr-AQudaPXq"
      },
      "execution_count": null,
      "outputs": []
    },
    {
      "cell_type": "code",
      "source": [
        "df.info() #There seems to be no null"
      ],
      "metadata": {
        "id": "iRz1A4RR6sb8",
        "outputId": "e30aa709-d2e6-48ad-9ce0-087bc5f0460a",
        "execution": {
          "iopub.status.busy": "2023-07-16T11:49:28.573101Z",
          "iopub.execute_input": "2023-07-16T11:49:28.573492Z",
          "iopub.status.idle": "2023-07-16T11:49:29.424501Z",
          "shell.execute_reply.started": "2023-07-16T11:49:28.573449Z",
          "shell.execute_reply": "2023-07-16T11:49:29.423364Z"
        },
        "trusted": true,
        "colab": {
          "base_uri": "https://localhost:8080/"
        }
      },
      "execution_count": null,
      "outputs": [
        {
          "output_type": "stream",
          "name": "stdout",
          "text": [
            "<class 'pandas.core.frame.DataFrame'>\n",
            "RangeIndex: 1048575 entries, 0 to 1048574\n",
            "Data columns (total 3 columns):\n",
            " #   Column    Non-Null Count    Dtype \n",
            "---  ------    --------------    ----- \n",
            " 0   Sentence  1048575 non-null  object\n",
            " 1   Token     1048575 non-null  object\n",
            " 2   POS       1048575 non-null  object\n",
            "dtypes: object(3)\n",
            "memory usage: 24.0+ MB\n"
          ]
        }
      ]
    },
    {
      "cell_type": "code",
      "source": [
        "print('Number of sentences are '+str(df['Sentence'].nunique()))\n",
        "print('Number of Vocabs are '+str(df['Token'].nunique()))"
      ],
      "metadata": {
        "id": "EZLsQ3KBD40m",
        "outputId": "a6403d9d-56ca-4118-b57f-25ba786cd1fa",
        "execution": {
          "iopub.status.busy": "2023-07-16T11:49:29.428329Z",
          "iopub.execute_input": "2023-07-16T11:49:29.428630Z",
          "iopub.status.idle": "2023-07-16T11:49:29.666039Z",
          "shell.execute_reply.started": "2023-07-16T11:49:29.428606Z",
          "shell.execute_reply": "2023-07-16T11:49:29.664911Z"
        },
        "trusted": true,
        "colab": {
          "base_uri": "https://localhost:8080/"
        }
      },
      "execution_count": null,
      "outputs": [
        {
          "output_type": "stream",
          "name": "stdout",
          "text": [
            "Number of sentences are 47959\n",
            "Number of Vocabs are 35178\n"
          ]
        }
      ]
    },
    {
      "cell_type": "markdown",
      "source": [
        "# Model Building LSTM and CRF"
      ],
      "metadata": {
        "id": "4LgnUIlUuate"
      }
    },
    {
      "cell_type": "markdown",
      "source": [
        "## Data Preprocessing"
      ],
      "metadata": {
        "id": "t_ymBojTFNQF"
      }
    },
    {
      "cell_type": "code",
      "source": [
        "import xml.etree.ElementTree as ET\n",
        "import tensorflow as tf\n",
        "from tensorflow.keras.layers import TextVectorization\n",
        "import gensim.downloader as api\n",
        "from tensorflow.keras.layers import Embedding\n",
        "\n",
        "tf.random.set_seed(123)"
      ],
      "metadata": {
        "id": "9nQhJRHVFLCu",
        "execution": {
          "iopub.status.busy": "2023-07-16T10:18:46.260132Z",
          "iopub.execute_input": "2023-07-16T10:18:46.260564Z",
          "iopub.status.idle": "2023-07-16T10:18:46.268863Z",
          "shell.execute_reply.started": "2023-07-16T10:18:46.260529Z",
          "shell.execute_reply": "2023-07-16T10:18:46.267874Z"
        },
        "trusted": true
      },
      "execution_count": null,
      "outputs": []
    },
    {
      "cell_type": "code",
      "source": [
        "df['Token']=df['Token'].str.lower()"
      ],
      "metadata": {
        "execution": {
          "iopub.status.busy": "2023-07-16T10:18:46.270372Z",
          "iopub.execute_input": "2023-07-16T10:18:46.270786Z",
          "iopub.status.idle": "2023-07-16T10:18:46.665258Z",
          "shell.execute_reply.started": "2023-07-16T10:18:46.270746Z",
          "shell.execute_reply": "2023-07-16T10:18:46.664278Z"
        },
        "trusted": true,
        "id": "RwQG2Fzw7r5J"
      },
      "execution_count": null,
      "outputs": []
    },
    {
      "cell_type": "code",
      "source": [
        "sentence_all = [(list(zip(group['Token'], group['POS']))) for _, group in df.groupby('Sentence')]"
      ],
      "metadata": {
        "id": "Z_8d_uxJgaor",
        "execution": {
          "iopub.status.busy": "2023-07-16T10:18:46.666611Z",
          "iopub.execute_input": "2023-07-16T10:18:46.666996Z",
          "iopub.status.idle": "2023-07-16T10:18:51.006122Z",
          "shell.execute_reply.started": "2023-07-16T10:18:46.666964Z",
          "shell.execute_reply": "2023-07-16T10:18:51.004988Z"
        },
        "trusted": true
      },
      "execution_count": null,
      "outputs": []
    },
    {
      "cell_type": "code",
      "source": [
        "sentence_all[0] #1st Sentence"
      ],
      "metadata": {
        "id": "3qCnmRpcgs0n",
        "outputId": "785e26df-1268-466d-c6a3-d5b1d74a70d4",
        "execution": {
          "iopub.status.busy": "2023-07-16T10:18:51.007541Z",
          "iopub.execute_input": "2023-07-16T10:18:51.007986Z",
          "iopub.status.idle": "2023-07-16T10:18:51.016349Z",
          "shell.execute_reply.started": "2023-07-16T10:18:51.007954Z",
          "shell.execute_reply": "2023-07-16T10:18:51.015355Z"
        },
        "trusted": true,
        "colab": {
          "base_uri": "https://localhost:8080/"
        }
      },
      "execution_count": null,
      "outputs": [
        {
          "output_type": "execute_result",
          "data": {
            "text/plain": [
              "[('thousands', 'O'),\n",
              " ('of', 'O'),\n",
              " ('demonstrators', 'O'),\n",
              " ('have', 'O'),\n",
              " ('marched', 'O'),\n",
              " ('through', 'O'),\n",
              " ('london', 'B-geo'),\n",
              " ('to', 'O'),\n",
              " ('protest', 'O'),\n",
              " ('the', 'O'),\n",
              " ('war', 'O'),\n",
              " ('in', 'O'),\n",
              " ('iraq', 'B-geo'),\n",
              " ('and', 'O'),\n",
              " ('demand', 'O'),\n",
              " ('the', 'O'),\n",
              " ('withdrawal', 'O'),\n",
              " ('of', 'O'),\n",
              " ('british', 'B-gpe'),\n",
              " ('troops', 'O'),\n",
              " ('from', 'O'),\n",
              " ('that', 'O'),\n",
              " ('country', 'O'),\n",
              " ('.', 'O')]"
            ]
          },
          "metadata": {},
          "execution_count": 15
        }
      ]
    },
    {
      "cell_type": "code",
      "source": [
        "# sentences = []\n",
        "# for sample in sentence_all:\n",
        "#   sentence = [i[0] for i in sample]\n",
        "#   sentences.append(sentence)\n",
        "\n",
        "# tokenizer = tf.keras.preprocessing.text.Tokenizer(num_words=df['Token'].nunique(), lower=True)\n",
        "# tokenizer.fit_on_texts(sentences)"
      ],
      "metadata": {
        "id": "ocTdt8NJkcYb",
        "execution": {
          "iopub.status.busy": "2023-07-16T10:18:51.017793Z",
          "iopub.execute_input": "2023-07-16T10:18:51.018791Z",
          "iopub.status.idle": "2023-07-16T10:18:51.027441Z",
          "shell.execute_reply.started": "2023-07-16T10:18:51.018759Z",
          "shell.execute_reply": "2023-07-16T10:18:51.026477Z"
        },
        "trusted": true
      },
      "execution_count": null,
      "outputs": []
    },
    {
      "cell_type": "code",
      "source": [
        "#tokenizer.shape"
      ],
      "metadata": {
        "id": "Dc_D0HqPkcbY",
        "execution": {
          "iopub.status.busy": "2023-07-16T10:18:51.028828Z",
          "iopub.execute_input": "2023-07-16T10:18:51.029289Z",
          "iopub.status.idle": "2023-07-16T10:18:51.039295Z",
          "shell.execute_reply.started": "2023-07-16T10:18:51.029256Z",
          "shell.execute_reply": "2023-07-16T10:18:51.038269Z"
        },
        "trusted": true
      },
      "execution_count": null,
      "outputs": []
    },
    {
      "cell_type": "code",
      "source": [
        "#tokenizer.word_index.items()"
      ],
      "metadata": {
        "id": "zfhJbZ5cfwQJ",
        "execution": {
          "iopub.status.busy": "2023-07-16T10:18:51.040711Z",
          "iopub.execute_input": "2023-07-16T10:18:51.041042Z",
          "iopub.status.idle": "2023-07-16T10:18:51.050500Z",
          "shell.execute_reply.started": "2023-07-16T10:18:51.041013Z",
          "shell.execute_reply": "2023-07-16T10:18:51.049604Z"
        },
        "trusted": true
      },
      "execution_count": null,
      "outputs": []
    },
    {
      "cell_type": "code",
      "source": [
        "# Hyperparams if GPU is available\n",
        "if tf.test.is_gpu_available():\n",
        "    BATCH_SIZE = 512  # Number of examples used in each iteration\n",
        "    EPOCHS = 5  # Number of passes through entire dataset\n",
        "    MAX_LEN = 75  # Max length of review (in words)\n",
        "    EMBEDDING = 40  # Dimension of word embedding vector\n",
        "# Hyperparams for CPU training\n",
        "else:\n",
        "    BATCH_SIZE = 32\n",
        "    EPOCHS = 5\n",
        "    MAX_LEN = 75\n",
        "    EMBEDDING = 20"
      ],
      "metadata": {
        "id": "hGPIo_sGpTwe",
        "execution": {
          "iopub.status.busy": "2023-07-16T10:18:51.052022Z",
          "iopub.execute_input": "2023-07-16T10:18:51.052399Z",
          "iopub.status.idle": "2023-07-16T10:18:53.487223Z",
          "shell.execute_reply.started": "2023-07-16T10:18:51.052367Z",
          "shell.execute_reply": "2023-07-16T10:18:53.486144Z"
        },
        "trusted": true,
        "colab": {
          "base_uri": "https://localhost:8080/"
        },
        "outputId": "6f77aa68-370d-42ed-d734-3228567f23af"
      },
      "execution_count": null,
      "outputs": [
        {
          "output_type": "stream",
          "name": "stderr",
          "text": [
            "WARNING:tensorflow:From <ipython-input-19-98cbf56d884d>:2: is_gpu_available (from tensorflow.python.framework.test_util) is deprecated and will be removed in a future version.\n",
            "Instructions for updating:\n",
            "Use `tf.config.list_physical_devices('GPU')` instead.\n"
          ]
        }
      ]
    },
    {
      "cell_type": "code",
      "source": [
        "#BATCH_SIZE"
      ],
      "metadata": {
        "execution": {
          "iopub.status.busy": "2023-07-16T10:18:53.488366Z",
          "iopub.execute_input": "2023-07-16T10:18:53.488742Z",
          "iopub.status.idle": "2023-07-16T10:18:53.502930Z",
          "shell.execute_reply.started": "2023-07-16T10:18:53.488711Z",
          "shell.execute_reply": "2023-07-16T10:18:53.501952Z"
        },
        "trusted": true,
        "id": "d1iEnFph7r5d"
      },
      "execution_count": null,
      "outputs": []
    },
    {
      "cell_type": "code",
      "source": [
        "words = list(set(df['Token'].values))\n",
        "tags = list(set(df[\"POS\"].values))"
      ],
      "metadata": {
        "id": "8kAFj9PLXFTa",
        "execution": {
          "iopub.status.busy": "2023-07-16T10:18:53.515623Z",
          "iopub.execute_input": "2023-07-16T10:18:53.516276Z",
          "iopub.status.idle": "2023-07-16T10:18:53.657336Z",
          "shell.execute_reply.started": "2023-07-16T10:18:53.516246Z",
          "shell.execute_reply": "2023-07-16T10:18:53.656223Z"
        },
        "trusted": true
      },
      "execution_count": null,
      "outputs": []
    },
    {
      "cell_type": "code",
      "source": [
        "'thousands'in words"
      ],
      "metadata": {
        "execution": {
          "iopub.status.busy": "2023-07-16T10:18:53.660612Z",
          "iopub.execute_input": "2023-07-16T10:18:53.661358Z",
          "iopub.status.idle": "2023-07-16T10:18:53.672337Z",
          "shell.execute_reply.started": "2023-07-16T10:18:53.661325Z",
          "shell.execute_reply": "2023-07-16T10:18:53.671013Z"
        },
        "trusted": true,
        "colab": {
          "base_uri": "https://localhost:8080/"
        },
        "id": "jysjnxmK7r5l",
        "outputId": "339302ef-853b-4fa2-c969-0480cf3175ee"
      },
      "execution_count": null,
      "outputs": [
        {
          "output_type": "execute_result",
          "data": {
            "text/plain": [
              "True"
            ]
          },
          "metadata": {},
          "execution_count": 23
        }
      ]
    },
    {
      "cell_type": "code",
      "source": [
        "#Creating word to index and tag to index\n",
        "import sklearn\n",
        "\n",
        "# Vocabulary Key:word -> Value:token_index\n",
        "# The first 2 entries are reserved for PAD and UNK\n",
        "word2idx = {w: i + 2 for i, w in enumerate(words)}\n",
        "word2idx[\"UNK\"] = 1 # Unknown words\n",
        "word2idx[\"PAD\"] = 0 # Padding\n",
        "\n",
        "# Vocabulary Key:token_index -> Value:word\n",
        "idx2word = {i: w for w, i in word2idx.items()}\n",
        "\n",
        "# Vocabulary Key:Label/Tag -> Value:tag_index\n",
        "# The first entry is reserved for PAD\n",
        "tag2idx = {t: i+1 for i, t in enumerate(tags)}\n",
        "tag2idx[\"PAD\"] = 0\n",
        "\n",
        "# Vocabulary Key:tag_index -> Value:Label/Tag\n",
        "idx2tag = {i: w for w, i in tag2idx.items()}\n"
      ],
      "metadata": {
        "id": "TOW4CLGn8CRJ",
        "execution": {
          "iopub.status.busy": "2023-07-16T10:18:53.673614Z",
          "iopub.execute_input": "2023-07-16T10:18:53.674034Z",
          "iopub.status.idle": "2023-07-16T10:18:53.696369Z",
          "shell.execute_reply.started": "2023-07-16T10:18:53.674002Z",
          "shell.execute_reply": "2023-07-16T10:18:53.695361Z"
        },
        "trusted": true
      },
      "execution_count": null,
      "outputs": []
    },
    {
      "cell_type": "code",
      "source": [
        "#'thousands' in list(word2idx.keys())"
      ],
      "metadata": {
        "execution": {
          "iopub.status.busy": "2023-07-16T10:18:53.698405Z",
          "iopub.execute_input": "2023-07-16T10:18:53.699374Z",
          "iopub.status.idle": "2023-07-16T10:18:53.708105Z",
          "shell.execute_reply.started": "2023-07-16T10:18:53.699344Z",
          "shell.execute_reply": "2023-07-16T10:18:53.707108Z"
        },
        "trusted": true,
        "id": "8O3hK30b7r5u"
      },
      "execution_count": null,
      "outputs": []
    },
    {
      "cell_type": "code",
      "source": [
        "# Embedding the word matrix, we will add this\n",
        "hits = 0\n",
        "misses = 0\n",
        "word2vec = api.load(\"word2vec-google-news-300\")\n",
        "embedding_dim = 300\n",
        "\n",
        "# Prepare embedding matrix\n",
        "embedding_matrix = np.zeros((len(word2idx), embedding_dim))\n",
        "for word, i in zip(word2idx.keys(),word2idx.values()):\n",
        "    embedding_vector = None\n",
        "    try:\n",
        "      embedding_vector = word2vec[word]\n",
        "    except Exception :\n",
        "      pass\n",
        "\n",
        "    if embedding_vector is not None:\n",
        "        # Words not found in embedding index will be all-zeros.\n",
        "        # This includes the representation for \"padding\" and \"OOV\"\n",
        "        embedding_matrix[i] = embedding_vector\n",
        "        hits += 1\n",
        "    else:\n",
        "        misses += 1\n",
        "print(\"Converted %d words (%d misses)\" % (hits, misses))"
      ],
      "metadata": {
        "id": "ihzSghVsGJ0r",
        "outputId": "165e438c-904d-40da-ebff-654b9c39dbb3",
        "execution": {
          "iopub.status.busy": "2023-07-16T10:52:50.911034Z",
          "iopub.execute_input": "2023-07-16T10:52:50.911778Z",
          "iopub.status.idle": "2023-07-16T10:53:55.785661Z",
          "shell.execute_reply.started": "2023-07-16T10:52:50.911745Z",
          "shell.execute_reply": "2023-07-16T10:53:55.784254Z"
        },
        "trusted": true,
        "colab": {
          "base_uri": "https://localhost:8080/"
        }
      },
      "execution_count": null,
      "outputs": [
        {
          "output_type": "stream",
          "name": "stdout",
          "text": [
            "[==================================================] 100.0% 1662.8/1662.8MB downloaded\n",
            "Converted 19600 words (12219 misses)\n"
          ]
        }
      ]
    },
    {
      "cell_type": "code",
      "source": [
        "#! pip install keras_preprocessing"
      ],
      "metadata": {
        "execution": {
          "iopub.status.busy": "2023-07-16T10:56:09.708025Z",
          "iopub.execute_input": "2023-07-16T10:56:09.708424Z",
          "iopub.status.idle": "2023-07-16T10:56:09.714180Z",
          "shell.execute_reply.started": "2023-07-16T10:56:09.708391Z",
          "shell.execute_reply": "2023-07-16T10:56:09.713255Z"
        },
        "trusted": true,
        "id": "KQTb6xi57r50"
      },
      "execution_count": null,
      "outputs": []
    },
    {
      "cell_type": "code",
      "source": [
        "#Tagging word to index and tag to index\n",
        "\n",
        "#from keras.preprocessing.sequence import pad_sequences\n",
        "#from keras_preprocessing.sequence import pad_sequences\n",
        "from keras_preprocessing.sequence import pad_sequences\n",
        "\n",
        "# Convert each sentence from list of Token to list of word_index\n",
        "X = [[word2idx[w[0]] for w in s] for s in sentence_all]\n",
        "\n",
        "# Padding each sentence to have the same lenght\n",
        "X = pad_sequences(maxlen=MAX_LEN, sequences=X, padding=\"post\", value=word2idx[\"PAD\"])\n",
        "\n",
        "# Convert Tag/Label to tag_index\n",
        "y = [[tag2idx[w[1]] for w in s] for s in sentence_all]\n",
        "\n",
        "# Padding each sentence to have the same lenght\n",
        "y = pad_sequences(maxlen=75, sequences=y, padding=\"post\", value=tag2idx[\"PAD\"])\n",
        "from keras.utils import to_categorical\n",
        "\n",
        "# One-Hot encode\n",
        "y = [to_categorical(i, num_classes=len(tags)+1) for i in y]  # n_tags+1(PAD)\n",
        "from sklearn.model_selection import train_test_split\n",
        "X_tr, X_te, y_tr, y_te = train_test_split(X, y, test_size=0.1)\n",
        "X_tr.shape, X_te.shape, np.array(y_tr).shape, np.array(y_te).shape\n",
        "\n",
        "\n",
        "print('Raw Sample:\\n ', ' '.join([w[0] for w in sentence_all[1]]))\n",
        "print('\\n ' )\n",
        "print('Raw Label:\\n ', ' '.join([w[1] for w in sentence_all[1]]))\n",
        "print('\\n ' )\n",
        "print('After processing, sample:\\n', X[0])\n",
        "print('\\n ' )\n",
        "print('After processing, labels:\\n', y[0])"
      ],
      "metadata": {
        "id": "KOX54Mbfovsa",
        "outputId": "64fa742e-3830-4f0e-af92-389cea55a2c4",
        "execution": {
          "iopub.status.busy": "2023-07-16T10:56:19.306913Z",
          "iopub.execute_input": "2023-07-16T10:56:19.307273Z",
          "iopub.status.idle": "2023-07-16T10:56:21.630447Z",
          "shell.execute_reply.started": "2023-07-16T10:56:19.307245Z",
          "shell.execute_reply": "2023-07-16T10:56:21.629505Z"
        },
        "trusted": true,
        "colab": {
          "base_uri": "https://localhost:8080/"
        }
      },
      "execution_count": null,
      "outputs": [
        {
          "output_type": "stream",
          "name": "stdout",
          "text": [
            "Raw Sample:\n",
            "  iranian officials say they expect to get access to sealed sensitive parts of the plant wednesday , after an iaea surveillance system begins functioning .\n",
            "\n",
            " \n",
            "Raw Label:\n",
            "  B-gpe O O O O O O O O O O O O O O B-tim O O O B-org O O O O O\n",
            "\n",
            " \n",
            "After processing, sample:\n",
            " [17579 23640 18801 19313 14372 23219 27663  2349  6029 14046 19622 24466\n",
            " 16428 16768  3452 14046 20154 23640 14157 21553 30883  7152   151 12852\n",
            "     0     0     0     0     0     0     0     0     0     0     0     0\n",
            "     0     0     0     0     0     0     0     0     0     0     0     0\n",
            "     0     0     0     0     0     0     0     0     0     0     0     0\n",
            "     0     0     0     0     0     0     0     0     0     0     0     0\n",
            "     0     0     0]\n",
            "\n",
            " \n",
            "After processing, labels:\n",
            " [[0. 0. 0. ... 0. 0. 0.]\n",
            " [0. 0. 0. ... 0. 0. 0.]\n",
            " [0. 0. 0. ... 0. 0. 0.]\n",
            " ...\n",
            " [1. 0. 0. ... 0. 0. 0.]\n",
            " [1. 0. 0. ... 0. 0. 0.]\n",
            " [1. 0. 0. ... 0. 0. 0.]]\n"
          ]
        }
      ]
    },
    {
      "cell_type": "code",
      "source": [
        "#sentence_all"
      ],
      "metadata": {
        "execution": {
          "iopub.status.busy": "2023-07-16T10:56:21.632522Z",
          "iopub.execute_input": "2023-07-16T10:56:21.633252Z",
          "iopub.status.idle": "2023-07-16T10:56:21.637833Z",
          "shell.execute_reply.started": "2023-07-16T10:56:21.633218Z",
          "shell.execute_reply": "2023-07-16T10:56:21.636835Z"
        },
        "trusted": true,
        "id": "kHpB_LC27r56"
      },
      "execution_count": null,
      "outputs": []
    },
    {
      "cell_type": "code",
      "source": [
        "len(word2idx)"
      ],
      "metadata": {
        "id": "wgoOfL6_6R2E",
        "outputId": "202d9992-3b6b-4d61-fe4f-890a3246ffe3",
        "execution": {
          "iopub.status.busy": "2023-07-16T10:56:21.639146Z",
          "iopub.execute_input": "2023-07-16T10:56:21.639726Z",
          "iopub.status.idle": "2023-07-16T10:56:21.652295Z",
          "shell.execute_reply.started": "2023-07-16T10:56:21.639695Z",
          "shell.execute_reply": "2023-07-16T10:56:21.651388Z"
        },
        "trusted": true,
        "colab": {
          "base_uri": "https://localhost:8080/"
        }
      },
      "execution_count": null,
      "outputs": [
        {
          "output_type": "execute_result",
          "data": {
            "text/plain": [
              "31819"
            ]
          },
          "metadata": {},
          "execution_count": 30
        }
      ]
    },
    {
      "cell_type": "code",
      "source": [
        "X_tr.shape, X_te.shape, np.array(y_tr).shape, np.array(y_te).shape"
      ],
      "metadata": {
        "id": "q2RAUerv2oal",
        "outputId": "9d93552a-5298-4e8c-9585-a8feabe062a8",
        "execution": {
          "iopub.status.busy": "2023-07-16T10:56:21.655368Z",
          "iopub.execute_input": "2023-07-16T10:56:21.655717Z",
          "iopub.status.idle": "2023-07-16T10:56:21.803377Z",
          "shell.execute_reply.started": "2023-07-16T10:56:21.655686Z",
          "shell.execute_reply": "2023-07-16T10:56:21.802447Z"
        },
        "trusted": true,
        "colab": {
          "base_uri": "https://localhost:8080/"
        }
      },
      "execution_count": null,
      "outputs": [
        {
          "output_type": "execute_result",
          "data": {
            "text/plain": [
              "((43163, 75), (4796, 75), (43163, 75, 18), (4796, 75, 18))"
            ]
          },
          "metadata": {},
          "execution_count": 31
        }
      ]
    },
    {
      "cell_type": "code",
      "source": [
        "y_tr = np.array(y_tr)\n",
        "y_te = np.array(y_te)"
      ],
      "metadata": {
        "id": "ctXOA14VrXX6",
        "execution": {
          "iopub.status.busy": "2023-07-16T10:56:21.804596Z",
          "iopub.execute_input": "2023-07-16T10:56:21.804955Z",
          "iopub.status.idle": "2023-07-16T10:56:21.942626Z",
          "shell.execute_reply.started": "2023-07-16T10:56:21.804919Z",
          "shell.execute_reply": "2023-07-16T10:56:21.941621Z"
        },
        "trusted": true
      },
      "execution_count": null,
      "outputs": []
    },
    {
      "cell_type": "code",
      "source": [
        "#! pip install tensorflow_addons"
      ],
      "metadata": {
        "id": "YvDJnI9uSQzH",
        "execution": {
          "iopub.status.busy": "2023-07-16T10:56:21.943975Z",
          "iopub.execute_input": "2023-07-16T10:56:21.944416Z",
          "iopub.status.idle": "2023-07-16T10:56:21.949518Z",
          "shell.execute_reply.started": "2023-07-16T10:56:21.944383Z",
          "shell.execute_reply": "2023-07-16T10:56:21.948670Z"
        },
        "trusted": true
      },
      "execution_count": null,
      "outputs": []
    },
    {
      "cell_type": "code",
      "source": [
        "# !pip install tensorflow-addons\n",
        "# !pip install tensorflow==2.0.0-beta1"
      ],
      "metadata": {
        "id": "i61u-oRzYDuS",
        "execution": {
          "iopub.status.busy": "2023-07-16T10:56:21.950855Z",
          "iopub.execute_input": "2023-07-16T10:56:21.951829Z",
          "iopub.status.idle": "2023-07-16T10:56:21.959175Z",
          "shell.execute_reply.started": "2023-07-16T10:56:21.951789Z",
          "shell.execute_reply": "2023-07-16T10:56:21.958198Z"
        },
        "trusted": true
      },
      "execution_count": null,
      "outputs": []
    },
    {
      "cell_type": "markdown",
      "source": [
        "## Model Building"
      ],
      "metadata": {
        "id": "vMejp4LHon_R"
      }
    },
    {
      "cell_type": "code",
      "source": [
        "#len(word2idx)"
      ],
      "metadata": {
        "execution": {
          "iopub.status.busy": "2023-07-16T10:56:21.960378Z",
          "iopub.execute_input": "2023-07-16T10:56:21.960862Z",
          "iopub.status.idle": "2023-07-16T10:56:21.977607Z",
          "shell.execute_reply.started": "2023-07-16T10:56:21.960830Z",
          "shell.execute_reply": "2023-07-16T10:56:21.976087Z"
        },
        "trusted": true,
        "id": "MNAIiIC_7r6Q"
      },
      "execution_count": null,
      "outputs": []
    },
    {
      "cell_type": "code",
      "source": [
        "#!pip install tensorflow-addons"
      ],
      "metadata": {
        "id": "w3WTBO1iA3hr"
      },
      "execution_count": null,
      "outputs": []
    },
    {
      "cell_type": "code",
      "source": [
        "from tensorflow.keras.models import Model\n",
        "from tensorflow.keras.layers import Input, LSTM, Embedding, Dense, TimeDistributed, Dropout, Bidirectional\n",
        "from tensorflow_addons.utils.types import FloatTensorLike, TensorLike\n",
        "from tensorflow_addons.layers import CRF\n",
        "from tensorflow_addons.losses import SigmoidFocalCrossEntropy\n",
        "from tensorflow_addons.optimizers import AdamW\n",
        "\n",
        "\n",
        "\n",
        "def build_model(max_len = 75, input_dim = len(word2idx),embedding_dim = 300):\n",
        "  # Model definition\n",
        "  input = Input(shape=(max_len,))\n",
        "\n",
        "  # Get embeddings\n",
        "  embeddings = Embedding(\n",
        "      input_dim,\n",
        "      embedding_dim,\n",
        "      weights=[embedding_matrix],\n",
        "    input_length=max_len,\n",
        "       mask_zero=True,\n",
        "    trainable=True,\n",
        "      name = 'embedding_layer'\n",
        "  )(input)\n",
        "\n",
        "  # variational biLSTM\n",
        "  output_sequences = Bidirectional(LSTM(units=50, return_sequences=True))(embeddings)\n",
        "  output_sequences = Bidirectional(LSTM(units=100, return_sequences=True))(output_sequences)\n",
        "  # Stacking\n",
        "  output_sequences = Bidirectional(LSTM(units=50, return_sequences=True))(output_sequences)\n",
        "\n",
        "  # Adding more non-linearity\n",
        "  dense_out = TimeDistributed(Dense(25, activation=\"relu\"))(output_sequences)\n",
        "\n",
        "  # CRF layer\n",
        "  mask = Input(shape=(max_len,), dtype=tf.bool)\n",
        "  crf = CRF(18, name='crf')\n",
        "  predicted_sequence, potentials, sequence_length, crf_kernel = crf(dense_out)\n",
        "\n",
        "  model = Model(input, potentials)\n",
        "  model.compile(\n",
        "      optimizer=AdamW(weight_decay=0.001),\n",
        "      loss= SigmoidFocalCrossEntropy()) # Sigmoid focal cross entropy loss\n",
        "\n",
        "  return model\n",
        "\n",
        "model = build_model()\n",
        "\n",
        "# Checkpointing\n",
        "save_model = tf.keras.callbacks.ModelCheckpoint(filepath='ner_crf.h5',\n",
        "  monitor='val_loss',\n",
        "  save_weights_only=True,\n",
        "  save_best_only=True,\n",
        "  verbose=1\n",
        ")\n",
        "\n",
        "# Early stopping\n",
        "es = tf.keras.callbacks.EarlyStopping(monitor='val_loss', verbose=1, patience=10)\n",
        "\n",
        "callbacks = [save_model, es]\n",
        "\n",
        "model.summary()"
      ],
      "metadata": {
        "id": "WLWSASfqudzD",
        "outputId": "81fed7d3-ee2f-41b6-b274-6dd6ce3eb82b",
        "execution": {
          "iopub.status.busy": "2023-07-16T10:56:21.981941Z",
          "iopub.execute_input": "2023-07-16T10:56:21.982294Z",
          "iopub.status.idle": "2023-07-16T10:56:29.919790Z",
          "shell.execute_reply.started": "2023-07-16T10:56:21.982263Z",
          "shell.execute_reply": "2023-07-16T10:56:29.919039Z"
        },
        "trusted": true,
        "colab": {
          "base_uri": "https://localhost:8080/"
        }
      },
      "execution_count": null,
      "outputs": [
        {
          "output_type": "stream",
          "name": "stdout",
          "text": [
            "Model: \"model_2\"\n",
            "_________________________________________________________________\n",
            " Layer (type)                Output Shape              Param #   \n",
            "=================================================================\n",
            " input_5 (InputLayer)        [(None, 75)]              0         \n",
            "                                                                 \n",
            " embedding_layer (Embedding)  (None, 75, 300)          9545700   \n",
            "                                                                 \n",
            " bidirectional_3 (Bidirectio  (None, 75, 100)          140400    \n",
            " nal)                                                            \n",
            "                                                                 \n",
            " bidirectional_4 (Bidirectio  (None, 75, 200)          160800    \n",
            " nal)                                                            \n",
            "                                                                 \n",
            " bidirectional_5 (Bidirectio  (None, 75, 100)          100400    \n",
            " nal)                                                            \n",
            "                                                                 \n",
            " time_distributed_1 (TimeDis  (None, 75, 25)           2525      \n",
            " tributed)                                                       \n",
            "                                                                 \n",
            " crf (CRF)                   [(None, 75),              828       \n",
            "                              (None, 75, 18),                    \n",
            "                              (None,),                           \n",
            "                              (18, 18)]                          \n",
            "                                                                 \n",
            "=================================================================\n",
            "Total params: 9,950,653\n",
            "Trainable params: 9,950,653\n",
            "Non-trainable params: 0\n",
            "_________________________________________________________________\n"
          ]
        }
      ]
    },
    {
      "cell_type": "markdown",
      "source": [
        "## Evaluation"
      ],
      "metadata": {
        "id": "gh-bBFLV7r6X"
      }
    },
    {
      "cell_type": "code",
      "source": [
        "history = model.fit(\n",
        "  X_tr,\n",
        "  y_tr,\n",
        "  batch_size=64,\n",
        "  epochs=10,\n",
        "  validation_data=(X_te, y_te),\n",
        "  callbacks=callbacks,\n",
        "  shuffle=True\n",
        ")"
      ],
      "metadata": {
        "id": "i96t0iiHvAWI",
        "outputId": "d202b6b0-b026-4678-e39b-3664c3f5081e",
        "execution": {
          "iopub.status.busy": "2023-07-16T10:56:29.924753Z",
          "iopub.execute_input": "2023-07-16T10:56:29.925099Z",
          "iopub.status.idle": "2023-07-16T11:07:13.190799Z",
          "shell.execute_reply.started": "2023-07-16T10:56:29.925066Z",
          "shell.execute_reply": "2023-07-16T11:07:13.189717Z"
        },
        "trusted": true,
        "colab": {
          "base_uri": "https://localhost:8080/",
          "height": 810
        }
      },
      "execution_count": null,
      "outputs": [
        {
          "output_type": "stream",
          "name": "stdout",
          "text": [
            "Epoch 1/20\n"
          ]
        },
        {
          "output_type": "stream",
          "name": "stderr",
          "text": [
            "WARNING:tensorflow:Gradients do not exist for variables ['chain_kernel:0'] when minimizing the loss. If you're using `model.compile()`, did you forget to provide a `loss` argument?\n",
            "WARNING:tensorflow:Gradients do not exist for variables ['chain_kernel:0'] when minimizing the loss. If you're using `model.compile()`, did you forget to provide a `loss` argument?\n"
          ]
        },
        {
          "output_type": "stream",
          "name": "stdout",
          "text": [
            "675/675 [==============================] - ETA: 0s - loss: 0.2761\n",
            "Epoch 1: val_loss improved from inf to 0.09992, saving model to ner_crf.h5\n",
            "675/675 [==============================] - 892s 1s/step - loss: 0.2761 - val_loss: 0.0999\n",
            "Epoch 2/20\n",
            "675/675 [==============================] - ETA: 0s - loss: 0.0663\n",
            "Epoch 2: val_loss improved from 0.09992 to 0.04717, saving model to ner_crf.h5\n",
            "675/675 [==============================] - 837s 1s/step - loss: 0.0663 - val_loss: 0.0472\n",
            "Epoch 3/20\n",
            "675/675 [==============================] - ETA: 0s - loss: 0.0394\n",
            "Epoch 3: val_loss improved from 0.04717 to 0.03354, saving model to ner_crf.h5\n",
            "675/675 [==============================] - 854s 1s/step - loss: 0.0394 - val_loss: 0.0335\n",
            "Epoch 4/20\n",
            "675/675 [==============================] - ETA: 0s - loss: 0.0277\n",
            "Epoch 4: val_loss improved from 0.03354 to 0.02571, saving model to ner_crf.h5\n",
            "675/675 [==============================] - 856s 1s/step - loss: 0.0277 - val_loss: 0.0257\n",
            "Epoch 5/20\n",
            "675/675 [==============================] - ETA: 0s - loss: 0.0203\n",
            "Epoch 5: val_loss did not improve from 0.02571\n",
            "675/675 [==============================] - 856s 1s/step - loss: 0.0203 - val_loss: 0.0590\n",
            "Epoch 6/20\n",
            "150/675 [=====>........................] - ETA: 11:06 - loss: 0.0194"
          ]
        },
        {
          "output_type": "error",
          "ename": "KeyboardInterrupt",
          "evalue": "",
          "traceback": [
            "\u001b[0;31m---------------------------------------------------------------------------\u001b[0m",
            "\u001b[0;31mKeyboardInterrupt\u001b[0m                         Traceback (most recent call last)",
            "\u001b[0;32m<ipython-input-40-f51c98f161cd>\u001b[0m in \u001b[0;36m<cell line: 1>\u001b[0;34m()\u001b[0m\n\u001b[0;32m----> 1\u001b[0;31m history = model.fit(\n\u001b[0m\u001b[1;32m      2\u001b[0m   \u001b[0mX_tr\u001b[0m\u001b[0;34m,\u001b[0m\u001b[0;34m\u001b[0m\u001b[0;34m\u001b[0m\u001b[0m\n\u001b[1;32m      3\u001b[0m   \u001b[0my_tr\u001b[0m\u001b[0;34m,\u001b[0m\u001b[0;34m\u001b[0m\u001b[0;34m\u001b[0m\u001b[0m\n\u001b[1;32m      4\u001b[0m   \u001b[0mbatch_size\u001b[0m\u001b[0;34m=\u001b[0m\u001b[0;36m64\u001b[0m\u001b[0;34m,\u001b[0m\u001b[0;34m\u001b[0m\u001b[0;34m\u001b[0m\u001b[0m\n\u001b[1;32m      5\u001b[0m   \u001b[0mepochs\u001b[0m\u001b[0;34m=\u001b[0m\u001b[0;36m20\u001b[0m\u001b[0;34m,\u001b[0m\u001b[0;34m\u001b[0m\u001b[0;34m\u001b[0m\u001b[0m\n",
            "\u001b[0;32m/usr/local/lib/python3.10/dist-packages/keras/utils/traceback_utils.py\u001b[0m in \u001b[0;36merror_handler\u001b[0;34m(*args, **kwargs)\u001b[0m\n\u001b[1;32m     63\u001b[0m         \u001b[0mfiltered_tb\u001b[0m \u001b[0;34m=\u001b[0m \u001b[0;32mNone\u001b[0m\u001b[0;34m\u001b[0m\u001b[0;34m\u001b[0m\u001b[0m\n\u001b[1;32m     64\u001b[0m         \u001b[0;32mtry\u001b[0m\u001b[0;34m:\u001b[0m\u001b[0;34m\u001b[0m\u001b[0;34m\u001b[0m\u001b[0m\n\u001b[0;32m---> 65\u001b[0;31m             \u001b[0;32mreturn\u001b[0m \u001b[0mfn\u001b[0m\u001b[0;34m(\u001b[0m\u001b[0;34m*\u001b[0m\u001b[0margs\u001b[0m\u001b[0;34m,\u001b[0m \u001b[0;34m**\u001b[0m\u001b[0mkwargs\u001b[0m\u001b[0;34m)\u001b[0m\u001b[0;34m\u001b[0m\u001b[0;34m\u001b[0m\u001b[0m\n\u001b[0m\u001b[1;32m     66\u001b[0m         \u001b[0;32mexcept\u001b[0m \u001b[0mException\u001b[0m \u001b[0;32mas\u001b[0m \u001b[0me\u001b[0m\u001b[0;34m:\u001b[0m\u001b[0;34m\u001b[0m\u001b[0;34m\u001b[0m\u001b[0m\n\u001b[1;32m     67\u001b[0m             \u001b[0mfiltered_tb\u001b[0m \u001b[0;34m=\u001b[0m \u001b[0m_process_traceback_frames\u001b[0m\u001b[0;34m(\u001b[0m\u001b[0me\u001b[0m\u001b[0;34m.\u001b[0m\u001b[0m__traceback__\u001b[0m\u001b[0;34m)\u001b[0m\u001b[0;34m\u001b[0m\u001b[0;34m\u001b[0m\u001b[0m\n",
            "\u001b[0;32m/usr/local/lib/python3.10/dist-packages/keras/engine/training.py\u001b[0m in \u001b[0;36mfit\u001b[0;34m(self, x, y, batch_size, epochs, verbose, callbacks, validation_split, validation_data, shuffle, class_weight, sample_weight, initial_epoch, steps_per_epoch, validation_steps, validation_batch_size, validation_freq, max_queue_size, workers, use_multiprocessing)\u001b[0m\n\u001b[1;32m   1683\u001b[0m                         ):\n\u001b[1;32m   1684\u001b[0m                             \u001b[0mcallbacks\u001b[0m\u001b[0;34m.\u001b[0m\u001b[0mon_train_batch_begin\u001b[0m\u001b[0;34m(\u001b[0m\u001b[0mstep\u001b[0m\u001b[0;34m)\u001b[0m\u001b[0;34m\u001b[0m\u001b[0;34m\u001b[0m\u001b[0m\n\u001b[0;32m-> 1685\u001b[0;31m                             \u001b[0mtmp_logs\u001b[0m \u001b[0;34m=\u001b[0m \u001b[0mself\u001b[0m\u001b[0;34m.\u001b[0m\u001b[0mtrain_function\u001b[0m\u001b[0;34m(\u001b[0m\u001b[0miterator\u001b[0m\u001b[0;34m)\u001b[0m\u001b[0;34m\u001b[0m\u001b[0;34m\u001b[0m\u001b[0m\n\u001b[0m\u001b[1;32m   1686\u001b[0m                             \u001b[0;32mif\u001b[0m \u001b[0mdata_handler\u001b[0m\u001b[0;34m.\u001b[0m\u001b[0mshould_sync\u001b[0m\u001b[0;34m:\u001b[0m\u001b[0;34m\u001b[0m\u001b[0;34m\u001b[0m\u001b[0m\n\u001b[1;32m   1687\u001b[0m                                 \u001b[0mcontext\u001b[0m\u001b[0;34m.\u001b[0m\u001b[0masync_wait\u001b[0m\u001b[0;34m(\u001b[0m\u001b[0;34m)\u001b[0m\u001b[0;34m\u001b[0m\u001b[0;34m\u001b[0m\u001b[0m\n",
            "\u001b[0;32m/usr/local/lib/python3.10/dist-packages/tensorflow/python/util/traceback_utils.py\u001b[0m in \u001b[0;36merror_handler\u001b[0;34m(*args, **kwargs)\u001b[0m\n\u001b[1;32m    148\u001b[0m     \u001b[0mfiltered_tb\u001b[0m \u001b[0;34m=\u001b[0m \u001b[0;32mNone\u001b[0m\u001b[0;34m\u001b[0m\u001b[0;34m\u001b[0m\u001b[0m\n\u001b[1;32m    149\u001b[0m     \u001b[0;32mtry\u001b[0m\u001b[0;34m:\u001b[0m\u001b[0;34m\u001b[0m\u001b[0;34m\u001b[0m\u001b[0m\n\u001b[0;32m--> 150\u001b[0;31m       \u001b[0;32mreturn\u001b[0m \u001b[0mfn\u001b[0m\u001b[0;34m(\u001b[0m\u001b[0;34m*\u001b[0m\u001b[0margs\u001b[0m\u001b[0;34m,\u001b[0m \u001b[0;34m**\u001b[0m\u001b[0mkwargs\u001b[0m\u001b[0;34m)\u001b[0m\u001b[0;34m\u001b[0m\u001b[0;34m\u001b[0m\u001b[0m\n\u001b[0m\u001b[1;32m    151\u001b[0m     \u001b[0;32mexcept\u001b[0m \u001b[0mException\u001b[0m \u001b[0;32mas\u001b[0m \u001b[0me\u001b[0m\u001b[0;34m:\u001b[0m\u001b[0;34m\u001b[0m\u001b[0;34m\u001b[0m\u001b[0m\n\u001b[1;32m    152\u001b[0m       \u001b[0mfiltered_tb\u001b[0m \u001b[0;34m=\u001b[0m \u001b[0m_process_traceback_frames\u001b[0m\u001b[0;34m(\u001b[0m\u001b[0me\u001b[0m\u001b[0;34m.\u001b[0m\u001b[0m__traceback__\u001b[0m\u001b[0;34m)\u001b[0m\u001b[0;34m\u001b[0m\u001b[0;34m\u001b[0m\u001b[0m\n",
            "\u001b[0;32m/usr/local/lib/python3.10/dist-packages/tensorflow/python/eager/polymorphic_function/polymorphic_function.py\u001b[0m in \u001b[0;36m__call__\u001b[0;34m(self, *args, **kwds)\u001b[0m\n\u001b[1;32m    892\u001b[0m \u001b[0;34m\u001b[0m\u001b[0m\n\u001b[1;32m    893\u001b[0m       \u001b[0;32mwith\u001b[0m \u001b[0mOptionalXlaContext\u001b[0m\u001b[0;34m(\u001b[0m\u001b[0mself\u001b[0m\u001b[0;34m.\u001b[0m\u001b[0m_jit_compile\u001b[0m\u001b[0;34m)\u001b[0m\u001b[0;34m:\u001b[0m\u001b[0;34m\u001b[0m\u001b[0;34m\u001b[0m\u001b[0m\n\u001b[0;32m--> 894\u001b[0;31m         \u001b[0mresult\u001b[0m \u001b[0;34m=\u001b[0m \u001b[0mself\u001b[0m\u001b[0;34m.\u001b[0m\u001b[0m_call\u001b[0m\u001b[0;34m(\u001b[0m\u001b[0;34m*\u001b[0m\u001b[0margs\u001b[0m\u001b[0;34m,\u001b[0m \u001b[0;34m**\u001b[0m\u001b[0mkwds\u001b[0m\u001b[0;34m)\u001b[0m\u001b[0;34m\u001b[0m\u001b[0;34m\u001b[0m\u001b[0m\n\u001b[0m\u001b[1;32m    895\u001b[0m \u001b[0;34m\u001b[0m\u001b[0m\n\u001b[1;32m    896\u001b[0m       \u001b[0mnew_tracing_count\u001b[0m \u001b[0;34m=\u001b[0m \u001b[0mself\u001b[0m\u001b[0;34m.\u001b[0m\u001b[0mexperimental_get_tracing_count\u001b[0m\u001b[0;34m(\u001b[0m\u001b[0;34m)\u001b[0m\u001b[0;34m\u001b[0m\u001b[0;34m\u001b[0m\u001b[0m\n",
            "\u001b[0;32m/usr/local/lib/python3.10/dist-packages/tensorflow/python/eager/polymorphic_function/polymorphic_function.py\u001b[0m in \u001b[0;36m_call\u001b[0;34m(self, *args, **kwds)\u001b[0m\n\u001b[1;32m    924\u001b[0m       \u001b[0;31m# In this case we have created variables on the first call, so we run the\u001b[0m\u001b[0;34m\u001b[0m\u001b[0;34m\u001b[0m\u001b[0m\n\u001b[1;32m    925\u001b[0m       \u001b[0;31m# defunned version which is guaranteed to never create variables.\u001b[0m\u001b[0;34m\u001b[0m\u001b[0;34m\u001b[0m\u001b[0m\n\u001b[0;32m--> 926\u001b[0;31m       \u001b[0;32mreturn\u001b[0m \u001b[0mself\u001b[0m\u001b[0;34m.\u001b[0m\u001b[0m_no_variable_creation_fn\u001b[0m\u001b[0;34m(\u001b[0m\u001b[0;34m*\u001b[0m\u001b[0margs\u001b[0m\u001b[0;34m,\u001b[0m \u001b[0;34m**\u001b[0m\u001b[0mkwds\u001b[0m\u001b[0;34m)\u001b[0m  \u001b[0;31m# pylint: disable=not-callable\u001b[0m\u001b[0;34m\u001b[0m\u001b[0;34m\u001b[0m\u001b[0m\n\u001b[0m\u001b[1;32m    927\u001b[0m     \u001b[0;32melif\u001b[0m \u001b[0mself\u001b[0m\u001b[0;34m.\u001b[0m\u001b[0m_variable_creation_fn\u001b[0m \u001b[0;32mis\u001b[0m \u001b[0;32mnot\u001b[0m \u001b[0;32mNone\u001b[0m\u001b[0;34m:\u001b[0m\u001b[0;34m\u001b[0m\u001b[0;34m\u001b[0m\u001b[0m\n\u001b[1;32m    928\u001b[0m       \u001b[0;31m# Release the lock early so that multiple threads can perform the call\u001b[0m\u001b[0;34m\u001b[0m\u001b[0;34m\u001b[0m\u001b[0m\n",
            "\u001b[0;32m/usr/local/lib/python3.10/dist-packages/tensorflow/python/eager/polymorphic_function/tracing_compiler.py\u001b[0m in \u001b[0;36m__call__\u001b[0;34m(self, *args, **kwargs)\u001b[0m\n\u001b[1;32m    141\u001b[0m       (concrete_function,\n\u001b[1;32m    142\u001b[0m        filtered_flat_args) = self._maybe_define_function(args, kwargs)\n\u001b[0;32m--> 143\u001b[0;31m     return concrete_function._call_flat(\n\u001b[0m\u001b[1;32m    144\u001b[0m         filtered_flat_args, captured_inputs=concrete_function.captured_inputs)  # pylint: disable=protected-access\n\u001b[1;32m    145\u001b[0m \u001b[0;34m\u001b[0m\u001b[0m\n",
            "\u001b[0;32m/usr/local/lib/python3.10/dist-packages/tensorflow/python/eager/polymorphic_function/monomorphic_function.py\u001b[0m in \u001b[0;36m_call_flat\u001b[0;34m(self, args, captured_inputs, cancellation_manager)\u001b[0m\n\u001b[1;32m   1755\u001b[0m         and executing_eagerly):\n\u001b[1;32m   1756\u001b[0m       \u001b[0;31m# No tape is watching; skip to running the function.\u001b[0m\u001b[0;34m\u001b[0m\u001b[0;34m\u001b[0m\u001b[0m\n\u001b[0;32m-> 1757\u001b[0;31m       return self._build_call_outputs(self._inference_function.call(\n\u001b[0m\u001b[1;32m   1758\u001b[0m           ctx, args, cancellation_manager=cancellation_manager))\n\u001b[1;32m   1759\u001b[0m     forward_backward = self._select_forward_and_backward_functions(\n",
            "\u001b[0;32m/usr/local/lib/python3.10/dist-packages/tensorflow/python/eager/polymorphic_function/monomorphic_function.py\u001b[0m in \u001b[0;36mcall\u001b[0;34m(self, ctx, args, cancellation_manager)\u001b[0m\n\u001b[1;32m    379\u001b[0m       \u001b[0;32mwith\u001b[0m \u001b[0m_InterpolateFunctionError\u001b[0m\u001b[0;34m(\u001b[0m\u001b[0mself\u001b[0m\u001b[0;34m)\u001b[0m\u001b[0;34m:\u001b[0m\u001b[0;34m\u001b[0m\u001b[0;34m\u001b[0m\u001b[0m\n\u001b[1;32m    380\u001b[0m         \u001b[0;32mif\u001b[0m \u001b[0mcancellation_manager\u001b[0m \u001b[0;32mis\u001b[0m \u001b[0;32mNone\u001b[0m\u001b[0;34m:\u001b[0m\u001b[0;34m\u001b[0m\u001b[0;34m\u001b[0m\u001b[0m\n\u001b[0;32m--> 381\u001b[0;31m           outputs = execute.execute(\n\u001b[0m\u001b[1;32m    382\u001b[0m               \u001b[0mstr\u001b[0m\u001b[0;34m(\u001b[0m\u001b[0mself\u001b[0m\u001b[0;34m.\u001b[0m\u001b[0msignature\u001b[0m\u001b[0;34m.\u001b[0m\u001b[0mname\u001b[0m\u001b[0;34m)\u001b[0m\u001b[0;34m,\u001b[0m\u001b[0;34m\u001b[0m\u001b[0;34m\u001b[0m\u001b[0m\n\u001b[1;32m    383\u001b[0m               \u001b[0mnum_outputs\u001b[0m\u001b[0;34m=\u001b[0m\u001b[0mself\u001b[0m\u001b[0;34m.\u001b[0m\u001b[0m_num_outputs\u001b[0m\u001b[0;34m,\u001b[0m\u001b[0;34m\u001b[0m\u001b[0;34m\u001b[0m\u001b[0m\n",
            "\u001b[0;32m/usr/local/lib/python3.10/dist-packages/tensorflow/python/eager/execute.py\u001b[0m in \u001b[0;36mquick_execute\u001b[0;34m(op_name, num_outputs, inputs, attrs, ctx, name)\u001b[0m\n\u001b[1;32m     50\u001b[0m   \u001b[0;32mtry\u001b[0m\u001b[0;34m:\u001b[0m\u001b[0;34m\u001b[0m\u001b[0;34m\u001b[0m\u001b[0m\n\u001b[1;32m     51\u001b[0m     \u001b[0mctx\u001b[0m\u001b[0;34m.\u001b[0m\u001b[0mensure_initialized\u001b[0m\u001b[0;34m(\u001b[0m\u001b[0;34m)\u001b[0m\u001b[0;34m\u001b[0m\u001b[0;34m\u001b[0m\u001b[0m\n\u001b[0;32m---> 52\u001b[0;31m     tensors = pywrap_tfe.TFE_Py_Execute(ctx._handle, device_name, op_name,\n\u001b[0m\u001b[1;32m     53\u001b[0m                                         inputs, attrs, num_outputs)\n\u001b[1;32m     54\u001b[0m   \u001b[0;32mexcept\u001b[0m \u001b[0mcore\u001b[0m\u001b[0;34m.\u001b[0m\u001b[0m_NotOkStatusException\u001b[0m \u001b[0;32mas\u001b[0m \u001b[0me\u001b[0m\u001b[0;34m:\u001b[0m\u001b[0;34m\u001b[0m\u001b[0;34m\u001b[0m\u001b[0m\n",
            "\u001b[0;31mKeyboardInterrupt\u001b[0m: "
          ]
        }
      ]
    },
    {
      "cell_type": "code",
      "source": [
        "from matplotlib import pyplot\n",
        "\n",
        "pyplot.plot(history.history['loss'], label='train')\n",
        "pyplot.plot(history.history['val_loss'], label='test')\n",
        "pyplot.legend()\n",
        "pyplot.show()"
      ],
      "metadata": {
        "id": "tl6WcdqNzpPJ",
        "outputId": "98f205b7-27c8-4aae-b450-b2c99a159c1f",
        "execution": {
          "iopub.status.busy": "2023-07-16T11:07:13.192451Z",
          "iopub.execute_input": "2023-07-16T11:07:13.192925Z",
          "iopub.status.idle": "2023-07-16T11:07:13.464499Z",
          "shell.execute_reply.started": "2023-07-16T11:07:13.192890Z",
          "shell.execute_reply": "2023-07-16T11:07:13.463571Z"
        },
        "trusted": true,
        "colab": {
          "base_uri": "https://localhost:8080/",
          "height": 211
        }
      },
      "execution_count": null,
      "outputs": [
        {
          "output_type": "error",
          "ename": "NameError",
          "evalue": "name 'history' is not defined",
          "traceback": [
            "\u001b[0;31m---------------------------------------------------------------------------\u001b[0m",
            "\u001b[0;31mNameError\u001b[0m                                 Traceback (most recent call last)",
            "\u001b[0;32m<ipython-input-41-499f21904caf>\u001b[0m in \u001b[0;36m<cell line: 3>\u001b[0;34m()\u001b[0m\n\u001b[1;32m      1\u001b[0m \u001b[0;32mfrom\u001b[0m \u001b[0mmatplotlib\u001b[0m \u001b[0;32mimport\u001b[0m \u001b[0mpyplot\u001b[0m\u001b[0;34m\u001b[0m\u001b[0;34m\u001b[0m\u001b[0m\n\u001b[1;32m      2\u001b[0m \u001b[0;34m\u001b[0m\u001b[0m\n\u001b[0;32m----> 3\u001b[0;31m \u001b[0mpyplot\u001b[0m\u001b[0;34m.\u001b[0m\u001b[0mplot\u001b[0m\u001b[0;34m(\u001b[0m\u001b[0mhistory\u001b[0m\u001b[0;34m.\u001b[0m\u001b[0mhistory\u001b[0m\u001b[0;34m[\u001b[0m\u001b[0;34m'loss'\u001b[0m\u001b[0;34m]\u001b[0m\u001b[0;34m,\u001b[0m \u001b[0mlabel\u001b[0m\u001b[0;34m=\u001b[0m\u001b[0;34m'train'\u001b[0m\u001b[0;34m)\u001b[0m\u001b[0;34m\u001b[0m\u001b[0;34m\u001b[0m\u001b[0m\n\u001b[0m\u001b[1;32m      4\u001b[0m \u001b[0mpyplot\u001b[0m\u001b[0;34m.\u001b[0m\u001b[0mplot\u001b[0m\u001b[0;34m(\u001b[0m\u001b[0mhistory\u001b[0m\u001b[0;34m.\u001b[0m\u001b[0mhistory\u001b[0m\u001b[0;34m[\u001b[0m\u001b[0;34m'val_loss'\u001b[0m\u001b[0;34m]\u001b[0m\u001b[0;34m,\u001b[0m \u001b[0mlabel\u001b[0m\u001b[0;34m=\u001b[0m\u001b[0;34m'test'\u001b[0m\u001b[0;34m)\u001b[0m\u001b[0;34m\u001b[0m\u001b[0;34m\u001b[0m\u001b[0m\n\u001b[1;32m      5\u001b[0m \u001b[0mpyplot\u001b[0m\u001b[0;34m.\u001b[0m\u001b[0mlegend\u001b[0m\u001b[0;34m(\u001b[0m\u001b[0;34m)\u001b[0m\u001b[0;34m\u001b[0m\u001b[0;34m\u001b[0m\u001b[0m\n",
            "\u001b[0;31mNameError\u001b[0m: name 'history' is not defined"
          ]
        }
      ]
    },
    {
      "cell_type": "markdown",
      "source": [
        "Since it's still reducing there is a chance it will reduce more with more hyperparam tuning but loss of 0.02 for train and 0.14 with test looks great"
      ],
      "metadata": {
        "id": "hnrLGiB5Dpom"
      }
    },
    {
      "cell_type": "code",
      "source": [
        "import seaborn as sns\n",
        "import matplotlib.pyplot as plt\n",
        "from sklearn.metrics import confusion_matrix\n",
        "import numpy as np\n",
        "\n",
        "# Make predictions on the test set\n",
        "predictions = model.predict(X_te)\n",
        "\n",
        "# Convert predictions to POS tags\n",
        "predicted_tags = np.argmax(predictions, axis=-1)\n",
        "predicted_tags = [[idx2tag[tag] for tag in sample] for sample in predicted_tags]\n",
        "\n",
        "# Flatten the predicted and true POS tag sequences\n",
        "flatten_predicted = [tag for sample in predicted_tags for tag in sample]\n",
        "flatten_true = [idx2tag[np.argmax(tag)] for sample in y_te for tag in sample]\n",
        "\n",
        "# Get unique tags from the true and predicted sequences\n",
        "unique_tags = list(set(flatten_true + flatten_predicted))\n",
        "\n",
        "# Compute the confusion matrix\n",
        "cm = confusion_matrix(flatten_true, flatten_predicted, labels=unique_tags)\n",
        "\n",
        "# Create a DataFrame for the confusion matrix\n",
        "cm_df = pd.DataFrame(cm, index=unique_tags, columns=unique_tags)\n",
        "\n",
        "# Set up the plot\n",
        "plt.figure(figsize=(10, 8))\n",
        "sns.set(font_scale=1.2)\n",
        "\n",
        "# Plot the confusion matrix as a heatmap\n",
        "sns.heatmap(cm_df, annot=True, cmap=\"Blues\", fmt=\"d\", cbar=False)\n",
        "\n",
        "# Customize the plot\n",
        "plt.title(\"Confusion Matrix\")\n",
        "plt.xlabel(\"Predicted Label\")\n",
        "plt.ylabel(\"True Label\")\n",
        "plt.xticks(rotation=45, ha=\"right\")\n",
        "plt.yticks(rotation=0)\n",
        "\n",
        "# Show the plot\n",
        "plt.show()\n"
      ],
      "metadata": {
        "id": "3iSIL3RuHOss",
        "outputId": "fe0b4659-111c-4265-e0cb-1bda5f8f5ccb",
        "execution": {
          "iopub.status.busy": "2023-07-16T11:07:13.466156Z",
          "iopub.execute_input": "2023-07-16T11:07:13.466830Z",
          "iopub.status.idle": "2023-07-16T11:07:27.529380Z",
          "shell.execute_reply.started": "2023-07-16T11:07:13.466796Z",
          "shell.execute_reply": "2023-07-16T11:07:27.528319Z"
        },
        "trusted": true,
        "colab": {
          "base_uri": "https://localhost:8080/",
          "height": 781
        }
      },
      "execution_count": null,
      "outputs": [
        {
          "output_type": "stream",
          "name": "stdout",
          "text": [
            "150/150 [==============================] - 33s 148ms/step\n"
          ]
        },
        {
          "output_type": "display_data",
          "data": {
            "text/plain": [
              "<Figure size 1000x800 with 1 Axes>"
            ],
            "image/png": "[encoded data removed]"
          },
          "metadata": {}
        }
      ]
    },
    {
      "cell_type": "code",
      "source": [
        "from sklearn.metrics import classification_report\n",
        "print(\"Classification Report:\\n \", classification_report(flatten_predicted, flatten_true, labels=unique_tags))"
      ],
      "metadata": {
        "id": "kpNphW9qQDLs",
        "outputId": "db4f856f-27e2-4499-9eae-e39c77aa465e",
        "execution": {
          "iopub.status.busy": "2023-07-16T11:07:27.530828Z",
          "iopub.execute_input": "2023-07-16T11:07:27.531392Z",
          "iopub.status.idle": "2023-07-16T11:07:32.336981Z",
          "shell.execute_reply.started": "2023-07-16T11:07:27.531356Z",
          "shell.execute_reply": "2023-07-16T11:07:32.333707Z"
        },
        "trusted": true,
        "colab": {
          "base_uri": "https://localhost:8080/"
        }
      },
      "execution_count": null,
      "outputs": [
        {
          "output_type": "stream",
          "name": "stderr",
          "text": [
            "/usr/local/lib/python3.10/dist-packages/sklearn/metrics/_classification.py:1344: UndefinedMetricWarning: Recall and F-score are ill-defined and being set to 0.0 in labels with no true samples. Use `zero_division` parameter to control this behavior.\n",
            "  _warn_prf(average, modifier, msg_start, len(result))\n",
            "/usr/local/lib/python3.10/dist-packages/sklearn/metrics/_classification.py:1344: UndefinedMetricWarning: Recall and F-score are ill-defined and being set to 0.0 in labels with no true samples. Use `zero_division` parameter to control this behavior.\n",
            "  _warn_prf(average, modifier, msg_start, len(result))\n"
          ]
        },
        {
          "output_type": "stream",
          "name": "stdout",
          "text": [
            "Classification Report:\n",
            "                precision    recall  f1-score   support\n",
            "\n",
            "       B-per       0.61      0.83      0.70      1269\n",
            "       B-geo       0.86      0.79      0.83      4162\n",
            "       I-art       0.00      0.00      0.00         0\n",
            "       I-eve       0.00      0.00      0.00         0\n",
            "       B-gpe       0.91      0.88      0.89      1655\n",
            "       B-nat       0.00      0.00      0.00         0\n",
            "       B-tim       0.83      0.74      0.78      2345\n",
            "       I-tim       0.00      0.00      0.00         0\n",
            "       I-gpe       0.00      0.00      0.00         0\n",
            "       I-geo       0.53      0.78      0.63       508\n",
            "           O       0.99      0.97      0.98     90447\n",
            "       I-org       0.44      0.60      0.51      1168\n",
            "       I-per       0.83      0.73      0.77      1979\n",
            "       I-nat       0.00      0.00      0.00         0\n",
            "       B-org       0.47      0.61      0.53      1575\n",
            "       B-art       0.00      0.00      0.00         0\n",
            "         PAD       1.00      1.00      1.00    254592\n",
            "       B-eve       0.00      0.00      0.00         0\n",
            "\n",
            "    accuracy                           0.98    359700\n",
            "   macro avg       0.41      0.44      0.42    359700\n",
            "weighted avg       0.99      0.98      0.99    359700\n",
            "\n"
          ]
        },
        {
          "output_type": "stream",
          "name": "stderr",
          "text": [
            "/usr/local/lib/python3.10/dist-packages/sklearn/metrics/_classification.py:1344: UndefinedMetricWarning: Recall and F-score are ill-defined and being set to 0.0 in labels with no true samples. Use `zero_division` parameter to control this behavior.\n",
            "  _warn_prf(average, modifier, msg_start, len(result))\n"
          ]
        }
      ]
    },
    {
      "cell_type": "markdown",
      "source": [
        "I can see that due to imbalance there are some category with less f1 score. We have used SigmoidFocalCrossEntropy to handle imbalance. We could further use either re-sampling method or more training methods"
      ],
      "metadata": {
        "id": "q2AtgCuXgB1R"
      }
    },
    {
      "cell_type": "markdown",
      "source": [
        "## Conclusion"
      ],
      "metadata": {
        "id": "U52adHyn7r6v"
      }
    },
    {
      "cell_type": "code",
      "source": [
        "import numpy as np\n",
        "\n",
        "def get_pos_tags(sentence):\n",
        "    # Tokenize the sentence\n",
        "    tokens = sentence.lower().split()\n",
        "\n",
        "    # Convert tokens to word indices\n",
        "    word_indices = [word2idx.get(token, word2idx[\"UNK\"]) for token in tokens]\n",
        "\n",
        "    # Pad the sequence\n",
        "    padded_sequence = pad_sequences([word_indices], maxlen=MAX_LEN, padding=\"post\", value=word2idx[\"PAD\"])\n",
        "\n",
        "    # Make predictions\n",
        "    predictions = model.predict(padded_sequence)[0]\n",
        "\n",
        "    # Convert predictions to POS tags\n",
        "    pos_tags = [idx2tag[np.argmax(pred)] for pred in predictions]\n",
        "\n",
        "    return list(zip(tokens, pos_tags))\n",
        "\n",
        "# Example usage\n",
        "input_sentence = \"I wanted to go to Disney Land\"\n",
        "output = get_pos_tags(input_sentence)\n",
        "\n",
        "# Print the output\n",
        "for token, pos_tag in output:\n",
        "    print(f\"Token: {token:<10} Predicted POS: {pos_tag}\")\n"
      ],
      "metadata": {
        "id": "60Ub_7JFesEF",
        "outputId": "f4086c77-5d1e-40d4-863b-6d9d9dc54c0f",
        "execution": {
          "iopub.status.busy": "2023-07-16T11:07:32.340488Z",
          "iopub.execute_input": "2023-07-16T11:07:32.340861Z",
          "iopub.status.idle": "2023-07-16T11:07:32.434594Z",
          "shell.execute_reply.started": "2023-07-16T11:07:32.340822Z",
          "shell.execute_reply": "2023-07-16T11:07:32.433679Z"
        },
        "trusted": true,
        "colab": {
          "base_uri": "https://localhost:8080/"
        }
      },
      "execution_count": null,
      "outputs": [
        {
          "output_type": "stream",
          "name": "stdout",
          "text": [
            "1/1 [==============================] - 0s 69ms/step\n",
            "Token: i          Predicted POS: O\n",
            "Token: wanted     Predicted POS: O\n",
            "Token: to         Predicted POS: O\n",
            "Token: go         Predicted POS: O\n",
            "Token: to         Predicted POS: O\n",
            "Token: disney     Predicted POS: B-org\n",
            "Token: land       Predicted POS: I-org\n"
          ]
        }
      ]
    },
    {
      "cell_type": "markdown",
      "source": [
        "This is the prediction of the sentence"
      ],
      "metadata": {
        "id": "t3kgeoN6jR1t"
      }
    },
    {
      "cell_type": "markdown",
      "source": [
        "# OverSampling and BERT"
      ],
      "metadata": {
        "id": "UaYHBCKlowMM"
      }
    },
    {
      "cell_type": "markdown",
      "source": [
        "## Oversampling and Preprocessing"
      ],
      "metadata": {
        "id": "wfjH9n3Fpdy5"
      }
    },
    {
      "cell_type": "code",
      "source": [
        "# ! pip install transformers\n",
        "# ! pip install plotly\n"
      ],
      "metadata": {
        "id": "lq-GMYaykBV7",
        "execution": {
          "iopub.status.busy": "2023-07-16T11:49:29.667713Z",
          "iopub.execute_input": "2023-07-16T11:49:29.668076Z",
          "iopub.status.idle": "2023-07-16T11:49:29.672521Z",
          "shell.execute_reply.started": "2023-07-16T11:49:29.668042Z",
          "shell.execute_reply": "2023-07-16T11:49:29.671485Z"
        },
        "trusted": true
      },
      "execution_count": null,
      "outputs": []
    },
    {
      "cell_type": "code",
      "source": [
        "import numpy as np\n",
        "import pandas as pd\n",
        "import plotly.express as px\n",
        "import matplotlib.pyplot as plt\n",
        "from tqdm import tqdm\n",
        "\n",
        "import tensorflow as tf\n",
        "from tensorflow.keras.callbacks import EarlyStopping\n",
        "\n",
        "\n",
        "import transformers\n",
        "from transformers import BertTokenizerFast\n",
        "from transformers import TFBertModel\n",
        "\n",
        "from sklearn import preprocessing\n",
        "from sklearn.model_selection import train_test_split\n"
      ],
      "metadata": {
        "id": "qMesm32ujHE4",
        "execution": {
          "iopub.status.busy": "2023-07-16T11:49:29.674067Z",
          "iopub.execute_input": "2023-07-16T11:49:29.674450Z",
          "iopub.status.idle": "2023-07-16T11:49:34.316873Z",
          "shell.execute_reply.started": "2023-07-16T11:49:29.674420Z",
          "shell.execute_reply": "2023-07-16T11:49:34.315882Z"
        },
        "trusted": true
      },
      "execution_count": null,
      "outputs": []
    },
    {
      "cell_type": "code",
      "source": [
        "# sentence = df.groupby(\"Sentence\")[\"Token\"].apply(list).values\n",
        "# #pos = dataframe.groupby(by = 'Sentence #')['POS'].apply(list).values\n",
        "# tag = df.groupby(by = 'Sentence')['POS'].apply(list).values"
      ],
      "metadata": {
        "id": "KEMGkFdplcCM",
        "execution": {
          "iopub.status.busy": "2023-07-16T11:49:34.318497Z",
          "iopub.execute_input": "2023-07-16T11:49:34.319501Z",
          "iopub.status.idle": "2023-07-16T11:49:34.325939Z",
          "shell.execute_reply.started": "2023-07-16T11:49:34.319463Z",
          "shell.execute_reply": "2023-07-16T11:49:34.324855Z"
        },
        "trusted": true
      },
      "execution_count": null,
      "outputs": []
    },
    {
      "cell_type": "code",
      "source": [
        "# Over Sampling\n",
        "lst = [df]\n",
        "max_size = 1356\n",
        "for class_index, group in df.groupby('POS'):\n",
        "        if len(group)< max_size:\n",
        "            lst.append(group.sample(max_size-len(group), replace=True))\n",
        "train_sample = pd.concat(lst)"
      ],
      "metadata": {
        "id": "1x5DxPg5F3zu",
        "execution": {
          "iopub.status.busy": "2023-07-16T11:49:34.329722Z",
          "iopub.execute_input": "2023-07-16T11:49:34.330126Z",
          "iopub.status.idle": "2023-07-16T11:49:34.584157Z",
          "shell.execute_reply.started": "2023-07-16T11:49:34.330029Z",
          "shell.execute_reply": "2023-07-16T11:49:34.583094Z"
        },
        "trusted": true
      },
      "execution_count": null,
      "outputs": []
    },
    {
      "cell_type": "code",
      "source": [
        "train_sample=train_sample.sort_values(by='Sentence')"
      ],
      "metadata": {
        "id": "YvtjY3D-NMpi",
        "execution": {
          "iopub.status.busy": "2023-07-16T11:49:34.585524Z",
          "iopub.execute_input": "2023-07-16T11:49:34.585908Z",
          "iopub.status.idle": "2023-07-16T11:49:36.160220Z",
          "shell.execute_reply.started": "2023-07-16T11:49:34.585870Z",
          "shell.execute_reply": "2023-07-16T11:49:36.159228Z"
        },
        "trusted": true
      },
      "execution_count": null,
      "outputs": []
    },
    {
      "cell_type": "code",
      "source": [
        "# Token and POS Encoding\n",
        "def process_data(df):\n",
        "    enc_pos = preprocessing.LabelEncoder()\n",
        "    #enc_tag = preprocessing.LabelEncoder()\n",
        "\n",
        "    df.loc[:, \"POS\"] = enc_pos.fit_transform(df[\"POS\"])\n",
        "\n",
        "    sentences = df.groupby(\"Sentence\")[\"Token\"].apply(list).values\n",
        "    pos = df.groupby(\"Sentence\")[\"POS\"].apply(list).values\n",
        "    return sentences, pos, enc_pos\n",
        "\n",
        "sentence,pos,enc_pos = process_data(train_sample.copy())"
      ],
      "metadata": {
        "id": "xfFU-zHqmGM2",
        "outputId": "17436ddb-ef21-4821-b903-b23186b26790",
        "execution": {
          "iopub.status.busy": "2023-07-16T11:49:36.161789Z",
          "iopub.execute_input": "2023-07-16T11:49:36.162250Z",
          "iopub.status.idle": "2023-07-16T11:49:40.152339Z",
          "shell.execute_reply.started": "2023-07-16T11:49:36.162215Z",
          "shell.execute_reply": "2023-07-16T11:49:40.151312Z"
        },
        "trusted": true,
        "colab": {
          "base_uri": "https://localhost:8080/"
        }
      },
      "execution_count": null,
      "outputs": [
        {
          "output_type": "stream",
          "name": "stderr",
          "text": [
            "<ipython-input-50-8238a877c147>:6: DeprecationWarning: In a future version, `df.iloc[:, i] = newvals` will attempt to set the values inplace instead of always setting a new array. To retain the old behavior, use either `df[df.columns[i]] = newvals` or, if columns are non-unique, `df.isetitem(i, newvals)`\n",
            "  df.loc[:, \"POS\"] = enc_pos.fit_transform(df[\"POS\"])\n"
          ]
        }
      ]
    },
    {
      "cell_type": "code",
      "source": [
        "#pos"
      ],
      "metadata": {
        "id": "e1GJU9RZpMnI",
        "execution": {
          "iopub.status.busy": "2023-07-16T11:49:40.153906Z",
          "iopub.execute_input": "2023-07-16T11:49:40.154639Z",
          "iopub.status.idle": "2023-07-16T11:49:40.164471Z",
          "shell.execute_reply.started": "2023-07-16T11:49:40.154605Z",
          "shell.execute_reply": "2023-07-16T11:49:40.162275Z"
        },
        "trusted": true
      },
      "execution_count": null,
      "outputs": []
    },
    {
      "cell_type": "code",
      "source": [
        "# Using BERT Auto-Tokenizer\n",
        "tokenizer = BertTokenizerFast.from_pretrained('bert-base-uncased')\n",
        "MAX_LEN = 256\n",
        "def tokenize(data,max_len = MAX_LEN):\n",
        "    input_ids = list()\n",
        "    attention_mask = list()\n",
        "    for i in tqdm(range(len(data))):\n",
        "        encoded = tokenizer.encode_plus(data[i],\n",
        "                                        add_special_tokens = True,\n",
        "                                        max_length = MAX_LEN,\n",
        "                                        is_split_into_words=True,\n",
        "                                        return_attention_mask=True,\n",
        "                                        padding = 'max_length',\n",
        "                                        truncation=True,return_tensors = 'np')\n",
        "\n",
        "\n",
        "        input_ids.append(encoded['input_ids'])\n",
        "        attention_mask.append(encoded['attention_mask'])\n",
        "    return np.vstack(input_ids),np.vstack(attention_mask)"
      ],
      "metadata": {
        "id": "9OTl4HcClkuE",
        "execution": {
          "iopub.status.busy": "2023-07-16T11:49:40.167360Z",
          "iopub.execute_input": "2023-07-16T11:49:40.167945Z",
          "iopub.status.idle": "2023-07-16T11:49:40.668092Z",
          "shell.execute_reply.started": "2023-07-16T11:49:40.167915Z",
          "shell.execute_reply": "2023-07-16T11:49:40.667092Z"
        },
        "trusted": true,
        "colab": {
          "base_uri": "https://localhost:8080/",
          "height": 269,
          "referenced_widgets": [
            "708aa6c52bd54f88be9179a90c77be35",
            "bf8bec8899dd4eaa938526956cd46137",
            "2234f07014bf4727aab64cbabccb367c",
            "abcaea7ddecc4ea2ab50bed38e86b523",
            "7cd000e315a447df8f726f727e2740a0",
            "a1fd3e5d2c4e41c9849c473df6664c65",
            "c4cef8a3a2e24a1aa9f13da1d8590c46",
            "c76f3db1a59c4f2fb9a73cf1419684d2",
            "7c2cbb8885c54149968257b4418071ab",
            "d5abe35163374f21aaeb16879aa543a4",
            "96b8827809864cd3a701f092a5194f4f",
            "41a899f657094dc4bdc0d3e6e5d0e0fb",
            "f014f25fbcc546e4bb0bbe3591550274",
            "6792b03168954ac68e350980b5f22e78",
            "3b62a1ed41e747dd9b2203e851f9b802",
            "4f009126bd0a47a89cc89de5345143c2",
            "7c50269ed3a3498587c395b53dcae67a",
            "e056b930d21247cba09cf20ec5d683ae",
            "745e7d2041104a0d895531b6f6cd1b33",
            "2730ed1624254dae963c95028b964d17",
            "8f788352bd674d3db1f763c5f8e88d57",
            "014024848ad6436cb845698b7c4b2191",
            "44d82961bbf94e7096702e63f2e72fc8",
            "e065df0cd709477dac93bff28e75ce6a",
            "6a5842c21e9c4f0e8f9e29d7b9255290",
            "a1ff45c0e732435b8b670b13d2d87982",
            "14562643f6ac41679365fe1035bba5dd",
            "c3a990c62bbc4846856eb1acc8f17692",
            "9d8d1d0a421f4adebb40109c5830100b",
            "051adf48a79f420cacc0c540b2bddc09",
            "886227e4e2844942bba32e208a957a58",
            "a591d144ab84442ca1d103bef3dc0a73",
            "c2f4d4f2176f40859e48614000be9727",
            "c2a377533acf4b06b71352dad29342b5",
            "78a9e1e7e70b441daf98865d70df7d64",
            "57add2296ac041499211be0624a93513",
            "6d70149f8c5d4bee86e8041e8f57c735",
            "d5de97fbf1e54557b6da16191da38fe4",
            "877e8bbe83cb434fbf8d2c69db330ec7",
            "04a700a3b90f41f882d1f82b7567132f",
            "d69d2c9d906b4c64844f15ef1a2a3b47",
            "2f0e93bbac434fc48ffe81a79a07ea30",
            "311b11661dda4249afce3a5439d42082",
            "8d12ea4b7b7f4c24bd44b063bf4277cf"
          ]
        },
        "outputId": "d55e14b4-deaf-46b3-ae14-186898a84145"
      },
      "execution_count": null,
      "outputs": [
        {
          "output_type": "stream",
          "name": "stderr",
          "text": [
            "/usr/local/lib/python3.10/dist-packages/huggingface_hub/utils/_token.py:88: UserWarning: \n",
            "The secret `HF_TOKEN` does not exist in your Colab secrets.\n",
            "To authenticate with the Hugging Face Hub, create a token in your settings tab (https://huggingface.co/settings/tokens), set it as secret in your Google Colab and restart your session.\n",
            "You will be able to reuse this secret in all of your notebooks.\n",
            "Please note that authentication is recommended but still optional to access public models or datasets.\n",
            "  warnings.warn(\n"
          ]
        },
        {
          "output_type": "display_data",
          "data": {
            "text/plain": [
              "tokenizer_config.json:   0%|          | 0.00/48.0 [00:00<?, ?B/s]"
            ],
            "application/vnd.jupyter.widget-view+json": {
              "version_major": 2,
              "version_minor": 0,
              "model_id": "708aa6c52bd54f88be9179a90c77be35"
            }
          },
          "metadata": {}
        },
        {
          "output_type": "display_data",
          "data": {
            "text/plain": [
              "vocab.txt:   0%|          | 0.00/232k [00:00<?, ?B/s]"
            ],
            "application/vnd.jupyter.widget-view+json": {
              "version_major": 2,
              "version_minor": 0,
              "model_id": "41a899f657094dc4bdc0d3e6e5d0e0fb"
            }
          },
          "metadata": {}
        },
        {
          "output_type": "display_data",
          "data": {
            "text/plain": [
              "tokenizer.json:   0%|          | 0.00/466k [00:00<?, ?B/s]"
            ],
            "application/vnd.jupyter.widget-view+json": {
              "version_major": 2,
              "version_minor": 0,
              "model_id": "44d82961bbf94e7096702e63f2e72fc8"
            }
          },
          "metadata": {}
        },
        {
          "output_type": "display_data",
          "data": {
            "text/plain": [
              "config.json:   0%|          | 0.00/570 [00:00<?, ?B/s]"
            ],
            "application/vnd.jupyter.widget-view+json": {
              "version_major": 2,
              "version_minor": 0,
              "model_id": "c2a377533acf4b06b71352dad29342b5"
            }
          },
          "metadata": {}
        }
      ]
    },
    {
      "cell_type": "code",
      "source": [
        "# Train test split\n",
        "X_train,X_test,y_train,y_test = train_test_split(sentence,pos,random_state=42,test_size=0.1)\n",
        "X_train.shape,X_test.shape,y_train.shape,y_test.shape"
      ],
      "metadata": {
        "id": "QUllsS0fl-0h",
        "outputId": "2fb9a6a2-d90b-4898-9002-5ee875d30eeb",
        "execution": {
          "iopub.status.busy": "2023-07-16T11:49:40.669752Z",
          "iopub.execute_input": "2023-07-16T11:49:40.670114Z",
          "iopub.status.idle": "2023-07-16T11:49:40.686107Z",
          "shell.execute_reply.started": "2023-07-16T11:49:40.670081Z",
          "shell.execute_reply": "2023-07-16T11:49:40.685240Z"
        },
        "trusted": true,
        "colab": {
          "base_uri": "https://localhost:8080/"
        }
      },
      "execution_count": null,
      "outputs": [
        {
          "output_type": "execute_result",
          "data": {
            "text/plain": [
              "((43163,), (4796,), (43163,), (4796,))"
            ]
          },
          "metadata": {},
          "execution_count": 53
        }
      ]
    },
    {
      "cell_type": "code",
      "source": [
        "X_train"
      ],
      "metadata": {
        "execution": {
          "iopub.status.busy": "2023-07-16T11:49:40.687423Z",
          "iopub.execute_input": "2023-07-16T11:49:40.687853Z",
          "iopub.status.idle": "2023-07-16T11:49:40.694617Z",
          "shell.execute_reply.started": "2023-07-16T11:49:40.687821Z",
          "shell.execute_reply": "2023-07-16T11:49:40.693665Z"
        },
        "trusted": true,
        "colab": {
          "base_uri": "https://localhost:8080/"
        },
        "id": "yscWlZzs7r8H",
        "outputId": "3f7a86c3-feff-4ab8-8222-2c5ca1983e5d"
      },
      "execution_count": null,
      "outputs": [
        {
          "output_type": "execute_result",
          "data": {
            "text/plain": [
              "array([list(['officials', 'crime', 'kremlin', '.', 'that', 'they', 'insisted', 'cracking', 'down', 'on', 'corporate', 'are']),\n",
              "       list(['.', 'agenda', 'the', 'top', 'to', 'likely', 'also', 'were', 'coast', 'ivory', 'in', 'process', 'faltering', 'and', 'region', 'darfur', 'western', \"'s\", 'sudan', 'in', 'conflict', 'the', 'peace', 'the']),\n",
              "       list(['from', 'burma', \"'s\", 'concerns', 'at', 'a', 'beijing', 'with', 'an', 'official', 'meeting', 'chief', 'wei', 'wei', 'department', 'affairs', 'consular', 'that', 'saturday', 'site', 'web', 'its', 'said', 'on', \"'s\", 'conveyed', 'embassy', 'ministry', 'the', 'chinese', '.', 'foreign']),\n",
              "       ...,\n",
              "       list(['war', 'crimes', 'and', 'crimes', 'against', 'humanity', 'role', 'his', 'of', 'in', 'the', 'balkan', 'wars', 'in', 'the', 'for', 'counts', 'facing', 'than', '1990s', 'milosevic', 'had', 'been', 'on', 'trial', 'at', '60', 'the', 'nations', 'war', 'tribunal', 'in', 'the', 'hague', 'more', 'united', 'crime', '.']),\n",
              "       list(['lieberman', 'mccain', 'introduced', 'the', 'bill', 'with', 'republican', 'senators', 'john', 'and', 'lindsey', 'graham', '.']),\n",
              "       list(['said', 'divulging', 'the', 'contents', 'the', 'their', 'would', 'endanger', 'outcome', '.', 'she', 'negotiations', 'of'])],\n",
              "      dtype=object)"
            ]
          },
          "metadata": {},
          "execution_count": 54
        }
      ]
    },
    {
      "cell_type": "code",
      "source": [
        "# Calling tokenization function\n",
        "input_ids,attention_mask = tokenize(X_train,max_len = MAX_LEN)\n",
        "val_input_ids,val_attention_mask = tokenize(X_test,max_len = MAX_LEN)"
      ],
      "metadata": {
        "id": "8NBZyhp1ow0j",
        "outputId": "2da7cdb9-c685-432d-87ad-674ea9abf8db",
        "execution": {
          "iopub.status.busy": "2023-07-16T11:49:40.696077Z",
          "iopub.execute_input": "2023-07-16T11:49:40.696945Z",
          "iopub.status.idle": "2023-07-16T11:49:59.896342Z",
          "shell.execute_reply.started": "2023-07-16T11:49:40.696911Z",
          "shell.execute_reply": "2023-07-16T11:49:59.895262Z"
        },
        "trusted": true,
        "colab": {
          "base_uri": "https://localhost:8080/"
        }
      },
      "execution_count": null,
      "outputs": [
        {
          "output_type": "stream",
          "name": "stderr",
          "text": [
            "100%|██████████| 43163/43163 [00:22<00:00, 1912.38it/s]\n",
            "100%|██████████| 4796/4796 [00:01<00:00, 2513.97it/s]\n"
          ]
        }
      ]
    },
    {
      "cell_type": "code",
      "source": [
        "#val_input_ids"
      ],
      "metadata": {
        "id": "KE5uo0HCpe2L",
        "execution": {
          "iopub.status.busy": "2023-07-16T11:49:59.897994Z",
          "iopub.execute_input": "2023-07-16T11:49:59.898391Z",
          "iopub.status.idle": "2023-07-16T11:49:59.903127Z",
          "shell.execute_reply.started": "2023-07-16T11:49:59.898356Z",
          "shell.execute_reply": "2023-07-16T11:49:59.902025Z"
        },
        "trusted": true
      },
      "execution_count": null,
      "outputs": []
    },
    {
      "cell_type": "code",
      "source": [
        "# TEST: Checking Padding and Truncation length's\n",
        "was = list()\n",
        "for i in range(len(input_ids)):\n",
        "    was.append(len(input_ids[i]))\n",
        "set(was)"
      ],
      "metadata": {
        "id": "cLLmBjnUo1f4",
        "outputId": "bccabc2e-27ee-42e7-f88d-90d8a9d9f16d",
        "execution": {
          "iopub.status.busy": "2023-07-16T11:49:59.904661Z",
          "iopub.execute_input": "2023-07-16T11:49:59.904991Z",
          "iopub.status.idle": "2023-07-16T11:49:59.943378Z",
          "shell.execute_reply.started": "2023-07-16T11:49:59.904961Z",
          "shell.execute_reply": "2023-07-16T11:49:59.942538Z"
        },
        "trusted": true,
        "colab": {
          "base_uri": "https://localhost:8080/"
        }
      },
      "execution_count": null,
      "outputs": [
        {
          "output_type": "execute_result",
          "data": {
            "text/plain": [
              "{256}"
            ]
          },
          "metadata": {},
          "execution_count": 57
        }
      ]
    },
    {
      "cell_type": "code",
      "source": [
        "# Train Padding\n",
        "test_tag = list()\n",
        "for i in range(len(y_test)):\n",
        "    test_tag.append(np.array(y_test[i] + [0] * (MAX_LEN-len(y_test[i]))))\n",
        "\n",
        "# TEST:  Checking Padding Length\n",
        "was = list()\n",
        "for i in range(len(test_tag)):\n",
        "    was.append(len(test_tag[i]))\n",
        "set(was)"
      ],
      "metadata": {
        "id": "EQhm4Yhao6sk",
        "outputId": "6fcb599f-d720-44c5-d393-6ca2c75991c7",
        "execution": {
          "iopub.status.busy": "2023-07-16T11:49:59.945061Z",
          "iopub.execute_input": "2023-07-16T11:49:59.945643Z",
          "iopub.status.idle": "2023-07-16T11:50:00.139949Z",
          "shell.execute_reply.started": "2023-07-16T11:49:59.945609Z",
          "shell.execute_reply": "2023-07-16T11:50:00.138887Z"
        },
        "trusted": true,
        "colab": {
          "base_uri": "https://localhost:8080/"
        }
      },
      "execution_count": null,
      "outputs": [
        {
          "output_type": "execute_result",
          "data": {
            "text/plain": [
              "{256}"
            ]
          },
          "metadata": {},
          "execution_count": 58
        }
      ]
    },
    {
      "cell_type": "code",
      "source": [
        "# Train Padding\n",
        "train_tag = list()\n",
        "for i in range(len(y_train)):\n",
        "    train_tag.append(np.array(y_train[i] + [0] * (MAX_LEN-len(y_train[i]))))\n",
        "\n",
        "# TEST:  Checking Padding Length\n",
        "was = list()\n",
        "for i in range(len(train_tag)):\n",
        "    was.append(len(train_tag[i]))\n",
        "set(was)"
      ],
      "metadata": {
        "id": "qPmtQ_x3qM_x",
        "outputId": "e99de920-da92-433b-a732-5fa4eba9f28b",
        "execution": {
          "iopub.status.busy": "2023-07-16T11:50:00.148825Z",
          "iopub.execute_input": "2023-07-16T11:50:00.150550Z",
          "iopub.status.idle": "2023-07-16T11:50:01.765745Z",
          "shell.execute_reply.started": "2023-07-16T11:50:00.150516Z",
          "shell.execute_reply": "2023-07-16T11:50:01.764614Z"
        },
        "trusted": true,
        "colab": {
          "base_uri": "https://localhost:8080/"
        }
      },
      "execution_count": null,
      "outputs": [
        {
          "output_type": "execute_result",
          "data": {
            "text/plain": [
              "{256}"
            ]
          },
          "metadata": {},
          "execution_count": 59
        }
      ]
    },
    {
      "cell_type": "code",
      "source": [
        "#train_tag[0].shape"
      ],
      "metadata": {
        "id": "yAqtuQuhqShV",
        "execution": {
          "iopub.status.busy": "2023-07-16T11:50:01.767340Z",
          "iopub.execute_input": "2023-07-16T11:50:01.767718Z",
          "iopub.status.idle": "2023-07-16T11:50:01.772997Z",
          "shell.execute_reply.started": "2023-07-16T11:50:01.767684Z",
          "shell.execute_reply": "2023-07-16T11:50:01.772070Z"
        },
        "trusted": true
      },
      "execution_count": null,
      "outputs": []
    },
    {
      "cell_type": "markdown",
      "source": [
        "## Bert Modeling"
      ],
      "metadata": {
        "id": "MSl63d37pWVU"
      }
    },
    {
      "cell_type": "code",
      "source": [
        "# bert_model = TFBertModel.from_pretrained('bert-base-uncased')\n",
        "\n",
        "def create_model(bert_model,max_len = MAX_LEN):\n",
        "    input_ids = tf.keras.Input(shape = (max_len,),dtype = 'int32')\n",
        "    attention_masks = tf.keras.Input(shape = (max_len,),dtype = 'int32')\n",
        "    bert_output = bert_model(input_ids,attention_mask = attention_masks,return_dict =True)\n",
        "    embedding = tf.keras.layers.Dropout(0.3)(bert_output[\"last_hidden_state\"])\n",
        "    output = tf.keras.layers.Dense(22,activation = 'softmax')(embedding)\n",
        "    model = tf.keras.models.Model(inputs = [input_ids,attention_masks],outputs = [output])\n",
        "    model.compile(optimizer=tf.keras.optimizers.Adam(learning_rate=0.00001), loss=\"sparse_categorical_crossentropy\", metrics=[\"accuracy\"])\n",
        "    return model"
      ],
      "metadata": {
        "id": "2-6n2jsso-FT",
        "execution": {
          "iopub.status.busy": "2023-07-16T11:50:01.775301Z",
          "iopub.execute_input": "2023-07-16T11:50:01.776044Z",
          "iopub.status.idle": "2023-07-16T11:50:01.791622Z",
          "shell.execute_reply.started": "2023-07-16T11:50:01.776013Z",
          "shell.execute_reply": "2023-07-16T11:50:01.790546Z"
        },
        "trusted": true
      },
      "execution_count": null,
      "outputs": []
    },
    {
      "cell_type": "code",
      "source": [
        "import tensorflow  as tf\n",
        "try:\n",
        "    tpu = tf.distribute.cluster_resolver.TPUClusterResolver()\n",
        "    print('Device:', tpu.master())\n",
        "    tf.config.experimental_connect_to_cluster(tpu)\n",
        "    tf.tpu.experimental.initialize_tpu_system(tpu)\n",
        "    strategy = tf.distribute.experimental.TPUStrategy(tpu)\n",
        "except:\n",
        "    strategy = tf.distribute.get_strategy()\n",
        "print('Number of replicas:', strategy.num_replicas_in_sync)"
      ],
      "metadata": {
        "id": "zfn7N_hyptsr",
        "outputId": "46bb2f78-2004-46a1-c713-171f2dfa0b32",
        "execution": {
          "iopub.status.busy": "2023-07-16T11:50:01.792818Z",
          "iopub.execute_input": "2023-07-16T11:50:01.793405Z",
          "iopub.status.idle": "2023-07-16T11:50:01.819657Z",
          "shell.execute_reply.started": "2023-07-16T11:50:01.793374Z",
          "shell.execute_reply": "2023-07-16T11:50:01.818618Z"
        },
        "trusted": true,
        "colab": {
          "base_uri": "https://localhost:8080/"
        }
      },
      "execution_count": null,
      "outputs": [
        {
          "output_type": "stream",
          "name": "stdout",
          "text": [
            "Device: grpc://10.69.42.162:8470\n"
          ]
        },
        {
          "output_type": "stream",
          "name": "stderr",
          "text": [
            "WARNING:absl:`tf.distribute.experimental.TPUStrategy` is deprecated, please use  the non experimental symbol `tf.distribute.TPUStrategy` instead.\n"
          ]
        },
        {
          "output_type": "stream",
          "name": "stdout",
          "text": [
            "Number of replicas: 8\n"
          ]
        }
      ]
    },
    {
      "cell_type": "code",
      "source": [
        "with strategy.scope():\n",
        "    bert_model = TFBertModel.from_pretrained('bert-base-uncased')\n",
        "    model = create_model(bert_model,MAX_LEN)"
      ],
      "metadata": {
        "id": "htHOwFVtpkP7",
        "outputId": "f0ad6399-f209-40a5-817f-d5aaac78e396",
        "execution": {
          "iopub.status.busy": "2023-07-16T11:50:01.821121Z",
          "iopub.execute_input": "2023-07-16T11:50:01.821769Z",
          "iopub.status.idle": "2023-07-16T11:50:20.320248Z",
          "shell.execute_reply.started": "2023-07-16T11:50:01.821738Z",
          "shell.execute_reply": "2023-07-16T11:50:20.319253Z"
        },
        "trusted": true,
        "colab": {
          "base_uri": "https://localhost:8080/",
          "height": 156,
          "referenced_widgets": [
            "8b9f03742a344b20ad966699a99f4ce7",
            "3fe2cc56d6244d998016e64127181b2d",
            "d9581e0a1f4d4a2491e7c1649628c248",
            "e568edebe9534ffa9922529f008a0f10",
            "c2a4c5e0210d4e2ba880617fbd5f945a",
            "f77013cb63e548ca878f96a77827191a",
            "39b91e9737e74970bb4c1e66cf2edb6a",
            "0265fa7c80c1482fbb9f367dd557a7b1",
            "d7de1ec5de6e42ab9addaca225af7401",
            "b3a25cefe6d944148fa4486ae963b9e2",
            "07d45869767b48a2b251a21bed25775c"
          ]
        }
      },
      "execution_count": null,
      "outputs": [
        {
          "output_type": "display_data",
          "data": {
            "text/plain": [
              "model.safetensors:   0%|          | 0.00/440M [00:00<?, ?B/s]"
            ],
            "application/vnd.jupyter.widget-view+json": {
              "version_major": 2,
              "version_minor": 0,
              "model_id": "8b9f03742a344b20ad966699a99f4ce7"
            }
          },
          "metadata": {}
        },
        {
          "output_type": "stream",
          "name": "stderr",
          "text": [
            "Some weights of the PyTorch model were not used when initializing the TF 2.0 model TFBertModel: ['cls.predictions.transform.LayerNorm.weight', 'cls.predictions.bias', 'cls.seq_relationship.weight', 'cls.predictions.transform.dense.weight', 'cls.seq_relationship.bias', 'cls.predictions.transform.dense.bias', 'cls.predictions.transform.LayerNorm.bias']\n",
            "- This IS expected if you are initializing TFBertModel from a PyTorch model trained on another task or with another architecture (e.g. initializing a TFBertForSequenceClassification model from a BertForPreTraining model).\n",
            "- This IS NOT expected if you are initializing TFBertModel from a PyTorch model that you expect to be exactly identical (e.g. initializing a TFBertForSequenceClassification model from a BertForSequenceClassification model).\n",
            "All the weights of TFBertModel were initialized from the PyTorch model.\n",
            "If your task is similar to the task the model of the checkpoint was trained on, you can already use TFBertModel for predictions without further training.\n"
          ]
        }
      ]
    },
    {
      "cell_type": "code",
      "source": [
        "model.summary()"
      ],
      "metadata": {
        "id": "3KuIsaEwpo0u",
        "outputId": "d3f7c934-d4d9-4eda-b23d-7bca36c54fc9",
        "execution": {
          "iopub.status.busy": "2023-07-16T11:50:20.321625Z",
          "iopub.execute_input": "2023-07-16T11:50:20.324305Z",
          "iopub.status.idle": "2023-07-16T11:50:20.378297Z",
          "shell.execute_reply.started": "2023-07-16T11:50:20.324269Z",
          "shell.execute_reply": "2023-07-16T11:50:20.377342Z"
        },
        "trusted": true,
        "colab": {
          "base_uri": "https://localhost:8080/"
        }
      },
      "execution_count": null,
      "outputs": [
        {
          "output_type": "stream",
          "name": "stdout",
          "text": [
            "Model: \"model_1\"\n",
            "__________________________________________________________________________________________________\n",
            " Layer (type)                   Output Shape         Param #     Connected to                     \n",
            "==================================================================================================\n",
            " input_3 (InputLayer)           [(None, 256)]        0           []                               \n",
            "                                                                                                  \n",
            " input_4 (InputLayer)           [(None, 256)]        0           []                               \n",
            "                                                                                                  \n",
            " tf_bert_model (TFBertModel)    TFBaseModelOutputWi  109482240   ['input_3[0][0]',                \n",
            "                                thPoolingAndCrossAt               'input_4[0][0]']                \n",
            "                                tentions(last_hidde                                               \n",
            "                                n_state=(None, 256,                                               \n",
            "                                 768),                                                            \n",
            "                                 pooler_output=(Non                                               \n",
            "                                e, 768),                                                          \n",
            "                                 past_key_values=No                                               \n",
            "                                ne, hidden_states=N                                               \n",
            "                                one, attentions=Non                                               \n",
            "                                e, cross_attentions                                               \n",
            "                                =None)                                                            \n",
            "                                                                                                  \n",
            " dropout_37 (Dropout)           (None, 256, 768)     0           ['tf_bert_model[0][0]']          \n",
            "                                                                                                  \n",
            " dense_2 (Dense)                (None, 256, 22)      16918       ['dropout_37[0][0]']             \n",
            "                                                                                                  \n",
            "==================================================================================================\n",
            "Total params: 109,499,158\n",
            "Trainable params: 109,499,158\n",
            "Non-trainable params: 0\n",
            "__________________________________________________________________________________________________\n"
          ]
        }
      ]
    },
    {
      "cell_type": "code",
      "source": [
        "early_stopping = EarlyStopping(mode='min',patience=3)\n",
        "history_bert = model.fit([input_ids,attention_mask],np.array(train_tag),validation_data = ([val_input_ids,val_attention_mask],np.array(test_tag)),epochs = 5,batch_size = 32,callbacks = early_stopping,verbose = True)"
      ],
      "metadata": {
        "id": "kXNevyGHp3gE",
        "outputId": "121f7c72-1be0-43e2-e47e-062bee9de8f8",
        "execution": {
          "iopub.status.busy": "2023-07-16T11:50:20.379638Z",
          "iopub.execute_input": "2023-07-16T11:50:20.380412Z",
          "iopub.status.idle": "2023-07-16T13:44:08.962279Z",
          "shell.execute_reply.started": "2023-07-16T11:50:20.380377Z",
          "shell.execute_reply": "2023-07-16T13:44:08.961096Z"
        },
        "trusted": true,
        "colab": {
          "base_uri": "https://localhost:8080/"
        }
      },
      "execution_count": null,
      "outputs": [
        {
          "output_type": "stream",
          "name": "stdout",
          "text": [
            "Epoch 1/5\n"
          ]
        },
        {
          "output_type": "stream",
          "name": "stderr",
          "text": [
            "WARNING:tensorflow:Gradients do not exist for variables ['tf_bert_model/bert/pooler/dense/kernel:0', 'tf_bert_model/bert/pooler/dense/bias:0'] when minimizing the loss. If you're using `model.compile()`, did you forget to provide a `loss` argument?\n",
            "WARNING:tensorflow:Gradients do not exist for variables ['tf_bert_model/bert/pooler/dense/kernel:0', 'tf_bert_model/bert/pooler/dense/bias:0'] when minimizing the loss. If you're using `model.compile()`, did you forget to provide a `loss` argument?\n",
            "WARNING:tensorflow:Gradients do not exist for variables ['tf_bert_model/bert/pooler/dense/kernel:0', 'tf_bert_model/bert/pooler/dense/bias:0'] when minimizing the loss. If you're using `model.compile()`, did you forget to provide a `loss` argument?\n",
            "WARNING:tensorflow:Gradients do not exist for variables ['tf_bert_model/bert/pooler/dense/kernel:0', 'tf_bert_model/bert/pooler/dense/bias:0'] when minimizing the loss. If you're using `model.compile()`, did you forget to provide a `loss` argument?\n"
          ]
        },
        {
          "output_type": "stream",
          "name": "stdout",
          "text": [
            "1349/1349 [==============================] - 245s 116ms/step - loss: 0.0820 - accuracy: 0.9803 - val_loss: 0.0408 - val_accuracy: 0.9881\n",
            "Epoch 2/5\n",
            "1349/1349 [==============================] - 145s 107ms/step - loss: 0.0375 - accuracy: 0.9887 - val_loss: 0.0286 - val_accuracy: 0.9911\n",
            "Epoch 3/5\n",
            "1349/1349 [==============================] - 145s 107ms/step - loss: 0.0289 - accuracy: 0.9910 - val_loss: 0.0241 - val_accuracy: 0.9924\n",
            "Epoch 4/5\n",
            "1349/1349 [==============================] - 145s 108ms/step - loss: 0.0242 - accuracy: 0.9923 - val_loss: 0.0210 - val_accuracy: 0.9935\n",
            "Epoch 5/5\n",
            "1349/1349 [==============================] - 146s 108ms/step - loss: 0.0210 - accuracy: 0.9933 - val_loss: 0.0193 - val_accuracy: 0.9940\n"
          ]
        }
      ]
    },
    {
      "cell_type": "markdown",
      "source": [
        "## BERT Evaluation"
      ],
      "metadata": {
        "id": "bEmAp7QM7r9f"
      }
    },
    {
      "cell_type": "code",
      "source": [
        "plt.xlabel(\"Epochs\")\n",
        "plt.ylabel(\"Loss\")\n",
        "plt.title(\"Loss Curve\")\n",
        "plt.plot(history_bert.history['loss'],linewidth=3,color='limegreen')\n",
        "plt.plot(history_bert.history['val_loss'],linewidth=3,color='orange')  # Plot the chart\n",
        "plt.legend([\"Training\", \"Validation\"], loc =\"upper right\")"
      ],
      "metadata": {
        "id": "KCT_P3UDs3lJ",
        "outputId": "fb1b99bb-aecb-4575-d821-186c0761207c",
        "execution": {
          "iopub.status.busy": "2023-07-16T13:44:08.964014Z",
          "iopub.execute_input": "2023-07-16T13:44:08.964390Z",
          "iopub.status.idle": "2023-07-16T13:44:09.352094Z",
          "shell.execute_reply.started": "2023-07-16T13:44:08.964356Z",
          "shell.execute_reply": "2023-07-16T13:44:09.351124Z"
        },
        "trusted": true,
        "colab": {
          "base_uri": "https://localhost:8080/",
          "height": 502
        }
      },
      "execution_count": null,
      "outputs": [
        {
          "output_type": "execute_result",
          "data": {
            "text/plain": [
              "<matplotlib.legend.Legend at 0x7bb15f113b80>"
            ]
          },
          "metadata": {},
          "execution_count": 66
        },
        {
          "output_type": "display_data",
          "data": {
            "text/plain": [
              "<Figure size 640x480 with 1 Axes>"
            ],
            "image/png": "[encoded data removed]"
          },
          "metadata": {}
        }
      ]
    },
    {
      "cell_type": "code",
      "source": [
        "predictions = model.predict([val_input_ids, val_attention_mask])\n",
        "predicted_labels = np.argmax(predictions, axis=2)\n",
        "true_labels_flat = np.concatenate(test_tag)\n",
        "predicted_labels_flat = np.concatenate(predicted_labels)\n",
        "from sklearn.metrics import confusion_matrix\n",
        "\n",
        "cm = confusion_matrix(true_labels_flat, predicted_labels_flat)\n",
        "#cm_normalized = cm.astype('float') / cm.sum(axis=1)[:, np.newaxis]\n",
        "import seaborn as sns\n",
        "label_names = enc_pos.classes_  # Assuming `enc_pos` is the label encoder used in your code\n",
        "\n",
        "plt.figure(figsize=(10, 8))\n",
        "sns.heatmap(cm, annot=True, cmap='Blues', xticklabels=label_names, yticklabels=label_names)\n",
        "plt.xlabel('Predicted Labels')\n",
        "plt.ylabel('True Labels')\n",
        "plt.title('Confusion Matrix')\n",
        "plt.show()\n"
      ],
      "metadata": {
        "id": "jvc04pPup_-N",
        "outputId": "ba685f14-5e3d-42ff-a0e6-64d5c0692420",
        "execution": {
          "iopub.status.busy": "2023-07-16T13:44:09.353847Z",
          "iopub.execute_input": "2023-07-16T13:44:09.354557Z",
          "iopub.status.idle": "2023-07-16T13:45:35.557262Z",
          "shell.execute_reply.started": "2023-07-16T13:44:09.354519Z",
          "shell.execute_reply": "2023-07-16T13:45:35.556376Z"
        },
        "trusted": true,
        "colab": {
          "base_uri": "https://localhost:8080/",
          "height": 784
        }
      },
      "execution_count": null,
      "outputs": [
        {
          "output_type": "stream",
          "name": "stdout",
          "text": [
            "150/150 [==============================] - 16s 65ms/step\n"
          ]
        },
        {
          "output_type": "display_data",
          "data": {
            "text/plain": [
              "<Figure size 1000x800 with 2 Axes>"
            ],
            "image/png": "[encoded data removed]"
          },
          "metadata": {}
        }
      ]
    },
    {
      "cell_type": "code",
      "source": [
        "y_pred = np.argmax(model.predict([val_input_ids, val_attention_mask]), axis=2)\n",
        "y_pred_labels = enc_pos.inverse_transform(y_pred.reshape(-1))\n",
        "y_true_labels = np.array(test_tag).flatten()\n",
        "encoded_pred_labels = enc_pos.transform(y_pred_labels)\n",
        "from sklearn.metrics import classification_report\n",
        "label_names = enc_pos.inverse_transform(np.arange(len(enc_pos.classes_)))\n",
        "\n",
        "report = classification_report(y_true_labels, encoded_pred_labels, target_names=label_names)\n",
        "print(report)\n"
      ],
      "metadata": {
        "id": "VnXtAd4qPLtH",
        "outputId": "f7824ea8-7441-4a4d-d404-a68ab7f4ad2a",
        "execution": {
          "iopub.status.busy": "2023-07-16T13:45:35.558385Z",
          "iopub.execute_input": "2023-07-16T13:45:35.558773Z",
          "iopub.status.idle": "2023-07-16T13:46:26.851750Z",
          "shell.execute_reply.started": "2023-07-16T13:45:35.558742Z",
          "shell.execute_reply": "2023-07-16T13:46:26.850410Z"
        },
        "trusted": true,
        "colab": {
          "base_uri": "https://localhost:8080/"
        }
      },
      "execution_count": null,
      "outputs": [
        {
          "output_type": "stream",
          "name": "stdout",
          "text": [
            "150/150 [==============================] - 5s 30ms/step\n",
            "              precision    recall  f1-score   support\n",
            "\n",
            "       B-art       1.00      1.00      1.00   1122445\n",
            "       B-eve       0.47      0.78      0.59       160\n",
            "       B-geo       0.77      0.81      0.79      3797\n",
            "       B-gpe       0.91      0.86      0.89      1592\n",
            "       B-nat       0.66      0.71      0.68       130\n",
            "       B-org       0.69      0.48      0.57      2055\n",
            "       B-per       0.75      0.53      0.62      1668\n",
            "       B-tim       0.82      0.77      0.79      2033\n",
            "       I-art       0.47      0.42      0.44       192\n",
            "       I-eve       0.84      0.52      0.64       210\n",
            "       I-geo       0.74      0.56      0.64       713\n",
            "       I-gpe       0.68      0.71      0.70       114\n",
            "       I-nat       0.97      0.65      0.78       193\n",
            "       I-org       0.60      0.41      0.49      1699\n",
            "       I-per       0.65      0.75      0.70      1658\n",
            "       I-tim       0.63      0.39      0.48       585\n",
            "           O       0.97      0.98      0.98     88532\n",
            "\n",
            "    accuracy                           0.99   1227776\n",
            "   macro avg       0.74      0.67      0.69   1227776\n",
            "weighted avg       0.99      0.99      0.99   1227776\n",
            "\n"
          ]
        }
      ]
    },
    {
      "cell_type": "markdown",
      "source": [
        "Overall accuracy has not increased but the category wise accuracy has increased in many places. Oversampling and pretrained BERT has increase the score"
      ],
      "metadata": {
        "id": "9hSpS00HoKAw"
      }
    },
    {
      "cell_type": "markdown",
      "source": [
        "## BERT Conclusion"
      ],
      "metadata": {
        "id": "FP4L_jXl7r90"
      }
    },
    {
      "cell_type": "code",
      "source": [
        "# Sample sentence\n",
        "sample_sentence = \"I wanted to go to Disney in America\"\n",
        "\n",
        "# Tokenize the sample sentence\n",
        "tokens = tokenizer.encode_plus(np.array(sample_sentence.split()),\n",
        "                                        add_special_tokens = True,\n",
        "                                        max_length = MAX_LEN,\n",
        "                                        is_split_into_words=True,\n",
        "                                        return_attention_mask=True,\n",
        "                                        padding = 'max_length',\n",
        "                                        truncation=True,return_tensors = 'np')\n",
        "\n",
        "\n",
        "input_ids=tokens['input_ids']\n",
        "attention_mask=tokens['attention_mask']\n",
        "\n",
        "# Convert tokens to input IDs and attention mask\n",
        "# input_ids = tokenizer.convert_tokens_to_ids(tokens)\n",
        "# attention_mask = [1] * len(input_ids)\n",
        "\n",
        "# Pad the input IDs and attention mask\n",
        "input_ids = input_ids #+ [0] * (MAX_LEN - len(input_ids))\n",
        "attention_mask = attention_mask #+ [0] * (MAX_LEN - len(attention_mask))\n",
        "\n",
        "# Reshape the input IDs and attention mask for prediction\n",
        "input_ids = np.array(input_ids).reshape(1, -1)\n",
        "attention_mask = np.array(attention_mask).reshape(1, -1)\n",
        "\n",
        "# Make predictions\n",
        "predictions = model.predict([input_ids, attention_mask])\n",
        "predicted_labels = np.argmax(predictions, axis=2)[0]\n",
        "\n",
        "# Map the predicted labels to their corresponding tag names\n",
        "predicted_tags = enc_pos.inverse_transform(predicted_labels)\n",
        "\n",
        "# Print the tokens and predicted POS tags\n",
        "for token, tag in zip(sample_sentence.split(), predicted_tags):\n",
        "    print(f\"Token: {token:<10} Predicted POS: {tag}\")"
      ],
      "metadata": {
        "execution": {
          "iopub.status.busy": "2023-07-16T14:10:35.103382Z",
          "iopub.execute_input": "2023-07-16T14:10:35.104282Z",
          "iopub.status.idle": "2023-07-16T14:10:35.215505Z",
          "shell.execute_reply.started": "2023-07-16T14:10:35.104235Z",
          "shell.execute_reply": "2023-07-16T14:10:35.213757Z"
        },
        "trusted": true,
        "colab": {
          "base_uri": "https://localhost:8080/"
        },
        "id": "IzSSGG487r93",
        "outputId": "63404f5d-25c2-4968-acb1-7edd13683794"
      },
      "execution_count": null,
      "outputs": [
        {
          "output_type": "stream",
          "name": "stdout",
          "text": [
            "1/1 [==============================] - 5s 5s/step\n",
            "Token: I          Predicted POS: O\n",
            "Token: wanted     Predicted POS: O\n",
            "Token: to         Predicted POS: O\n",
            "Token: go         Predicted POS: O\n",
            "Token: to         Predicted POS: O\n",
            "Token: Disney     Predicted POS: B-org\n",
            "Token: in         Predicted POS: O\n",
            "Token: America    Predicted POS: B-geo\n"
          ]
        }
      ]
    },
    {
      "cell_type": "code",
      "source": [],
      "metadata": {
        "id": "QhUMslSr7r9_"
      },
      "execution_count": null,
      "outputs": []
    }
  ]
}